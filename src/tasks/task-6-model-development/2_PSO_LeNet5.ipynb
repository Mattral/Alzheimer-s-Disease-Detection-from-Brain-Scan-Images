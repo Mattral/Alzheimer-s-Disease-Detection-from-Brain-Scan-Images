{
  "nbformat": 4,
  "nbformat_minor": 0,
  "metadata": {
    "colab": {
      "provenance": [],
      "gpuType": "T4"
    },
    "kernelspec": {
      "name": "python3",
      "display_name": "Python 3"
    },
    "language_info": {
      "name": "python"
    },
    "accelerator": "GPU"
  },
  "cells": [
    {
      "cell_type": "markdown",
      "source": [
        "## Data Import from Kaggle"
      ],
      "metadata": {
        "id": "L-zm7JM3q9r9"
      }
    },
    {
      "cell_type": "code",
      "source": [
        "#In Colab, you need to install the Kaggle library.\n",
        "!pip install -q kaggle;"
      ],
      "metadata": {
        "id": "yx4qy67VCUXH"
      },
      "execution_count": 1,
      "outputs": []
    },
    {
      "cell_type": "code",
      "source": [
        "# json token file\n",
        "from google.colab import files\n",
        "files.upload();"
      ],
      "metadata": {
        "colab": {
          "base_uri": "https://localhost:8080/",
          "height": 73
        },
        "id": "rcNvvxfKDRWo",
        "outputId": "3adb2015-60c6-4115-bfc1-bf965dafad8e"
      },
      "execution_count": 2,
      "outputs": [
        {
          "output_type": "display_data",
          "data": {
            "text/plain": [
              "<IPython.core.display.HTML object>"
            ],
            "text/html": [
              "\n",
              "     <input type=\"file\" id=\"files-c57d284e-8398-406a-91b4-400ea6d8444d\" name=\"files[]\" multiple disabled\n",
              "        style=\"border:none\" />\n",
              "     <output id=\"result-c57d284e-8398-406a-91b4-400ea6d8444d\">\n",
              "      Upload widget is only available when the cell has been executed in the\n",
              "      current browser session. Please rerun this cell to enable.\n",
              "      </output>\n",
              "      <script>// Copyright 2017 Google LLC\n",
              "//\n",
              "// Licensed under the Apache License, Version 2.0 (the \"License\");\n",
              "// you may not use this file except in compliance with the License.\n",
              "// You may obtain a copy of the License at\n",
              "//\n",
              "//      http://www.apache.org/licenses/LICENSE-2.0\n",
              "//\n",
              "// Unless required by applicable law or agreed to in writing, software\n",
              "// distributed under the License is distributed on an \"AS IS\" BASIS,\n",
              "// WITHOUT WARRANTIES OR CONDITIONS OF ANY KIND, either express or implied.\n",
              "// See the License for the specific language governing permissions and\n",
              "// limitations under the License.\n",
              "\n",
              "/**\n",
              " * @fileoverview Helpers for google.colab Python module.\n",
              " */\n",
              "(function(scope) {\n",
              "function span(text, styleAttributes = {}) {\n",
              "  const element = document.createElement('span');\n",
              "  element.textContent = text;\n",
              "  for (const key of Object.keys(styleAttributes)) {\n",
              "    element.style[key] = styleAttributes[key];\n",
              "  }\n",
              "  return element;\n",
              "}\n",
              "\n",
              "// Max number of bytes which will be uploaded at a time.\n",
              "const MAX_PAYLOAD_SIZE = 100 * 1024;\n",
              "\n",
              "function _uploadFiles(inputId, outputId) {\n",
              "  const steps = uploadFilesStep(inputId, outputId);\n",
              "  const outputElement = document.getElementById(outputId);\n",
              "  // Cache steps on the outputElement to make it available for the next call\n",
              "  // to uploadFilesContinue from Python.\n",
              "  outputElement.steps = steps;\n",
              "\n",
              "  return _uploadFilesContinue(outputId);\n",
              "}\n",
              "\n",
              "// This is roughly an async generator (not supported in the browser yet),\n",
              "// where there are multiple asynchronous steps and the Python side is going\n",
              "// to poll for completion of each step.\n",
              "// This uses a Promise to block the python side on completion of each step,\n",
              "// then passes the result of the previous step as the input to the next step.\n",
              "function _uploadFilesContinue(outputId) {\n",
              "  const outputElement = document.getElementById(outputId);\n",
              "  const steps = outputElement.steps;\n",
              "\n",
              "  const next = steps.next(outputElement.lastPromiseValue);\n",
              "  return Promise.resolve(next.value.promise).then((value) => {\n",
              "    // Cache the last promise value to make it available to the next\n",
              "    // step of the generator.\n",
              "    outputElement.lastPromiseValue = value;\n",
              "    return next.value.response;\n",
              "  });\n",
              "}\n",
              "\n",
              "/**\n",
              " * Generator function which is called between each async step of the upload\n",
              " * process.\n",
              " * @param {string} inputId Element ID of the input file picker element.\n",
              " * @param {string} outputId Element ID of the output display.\n",
              " * @return {!Iterable<!Object>} Iterable of next steps.\n",
              " */\n",
              "function* uploadFilesStep(inputId, outputId) {\n",
              "  const inputElement = document.getElementById(inputId);\n",
              "  inputElement.disabled = false;\n",
              "\n",
              "  const outputElement = document.getElementById(outputId);\n",
              "  outputElement.innerHTML = '';\n",
              "\n",
              "  const pickedPromise = new Promise((resolve) => {\n",
              "    inputElement.addEventListener('change', (e) => {\n",
              "      resolve(e.target.files);\n",
              "    });\n",
              "  });\n",
              "\n",
              "  const cancel = document.createElement('button');\n",
              "  inputElement.parentElement.appendChild(cancel);\n",
              "  cancel.textContent = 'Cancel upload';\n",
              "  const cancelPromise = new Promise((resolve) => {\n",
              "    cancel.onclick = () => {\n",
              "      resolve(null);\n",
              "    };\n",
              "  });\n",
              "\n",
              "  // Wait for the user to pick the files.\n",
              "  const files = yield {\n",
              "    promise: Promise.race([pickedPromise, cancelPromise]),\n",
              "    response: {\n",
              "      action: 'starting',\n",
              "    }\n",
              "  };\n",
              "\n",
              "  cancel.remove();\n",
              "\n",
              "  // Disable the input element since further picks are not allowed.\n",
              "  inputElement.disabled = true;\n",
              "\n",
              "  if (!files) {\n",
              "    return {\n",
              "      response: {\n",
              "        action: 'complete',\n",
              "      }\n",
              "    };\n",
              "  }\n",
              "\n",
              "  for (const file of files) {\n",
              "    const li = document.createElement('li');\n",
              "    li.append(span(file.name, {fontWeight: 'bold'}));\n",
              "    li.append(span(\n",
              "        `(${file.type || 'n/a'}) - ${file.size} bytes, ` +\n",
              "        `last modified: ${\n",
              "            file.lastModifiedDate ? file.lastModifiedDate.toLocaleDateString() :\n",
              "                                    'n/a'} - `));\n",
              "    const percent = span('0% done');\n",
              "    li.appendChild(percent);\n",
              "\n",
              "    outputElement.appendChild(li);\n",
              "\n",
              "    const fileDataPromise = new Promise((resolve) => {\n",
              "      const reader = new FileReader();\n",
              "      reader.onload = (e) => {\n",
              "        resolve(e.target.result);\n",
              "      };\n",
              "      reader.readAsArrayBuffer(file);\n",
              "    });\n",
              "    // Wait for the data to be ready.\n",
              "    let fileData = yield {\n",
              "      promise: fileDataPromise,\n",
              "      response: {\n",
              "        action: 'continue',\n",
              "      }\n",
              "    };\n",
              "\n",
              "    // Use a chunked sending to avoid message size limits. See b/62115660.\n",
              "    let position = 0;\n",
              "    do {\n",
              "      const length = Math.min(fileData.byteLength - position, MAX_PAYLOAD_SIZE);\n",
              "      const chunk = new Uint8Array(fileData, position, length);\n",
              "      position += length;\n",
              "\n",
              "      const base64 = btoa(String.fromCharCode.apply(null, chunk));\n",
              "      yield {\n",
              "        response: {\n",
              "          action: 'append',\n",
              "          file: file.name,\n",
              "          data: base64,\n",
              "        },\n",
              "      };\n",
              "\n",
              "      let percentDone = fileData.byteLength === 0 ?\n",
              "          100 :\n",
              "          Math.round((position / fileData.byteLength) * 100);\n",
              "      percent.textContent = `${percentDone}% done`;\n",
              "\n",
              "    } while (position < fileData.byteLength);\n",
              "  }\n",
              "\n",
              "  // All done.\n",
              "  yield {\n",
              "    response: {\n",
              "      action: 'complete',\n",
              "    }\n",
              "  };\n",
              "}\n",
              "\n",
              "scope.google = scope.google || {};\n",
              "scope.google.colab = scope.google.colab || {};\n",
              "scope.google.colab._files = {\n",
              "  _uploadFiles,\n",
              "  _uploadFilesContinue,\n",
              "};\n",
              "})(self);\n",
              "</script> "
            ]
          },
          "metadata": {}
        },
        {
          "output_type": "stream",
          "name": "stdout",
          "text": [
            "Saving kaggle.json to kaggle.json\n"
          ]
        }
      ]
    },
    {
      "cell_type": "code",
      "source": [
        "#Move the uploaded kaggle.json file to the appropriate directory.\n",
        "!mkdir -p ~/.kaggle\n",
        "!cp kaggle.json ~/.kaggle/\n",
        "#change the permission of the file\n",
        "!chmod 600 ~/.kaggle/kaggle.json"
      ],
      "metadata": {
        "id": "7sUop6d7DrzD"
      },
      "execution_count": 3,
      "outputs": []
    },
    {
      "cell_type": "code",
      "source": [
        "#list of datasets with the word alzheimers\n",
        "!kaggle datasets list -s alzheimers\n",
        "!kaggle datasets download -d tourist55/alzheimers-dataset-4-class-of-images\n",
        "! mkdir Omdena\n",
        "! unzip alzheimers-dataset-4-class-of-images.zip -d Omdena/"
      ],
      "metadata": {
        "id": "6iaCllFpDvTy"
      },
      "execution_count": null,
      "outputs": []
    },
    {
      "cell_type": "code",
      "source": [
        "# Import libraries\n",
        "from keras.preprocessing.image import ImageDataGenerator\n",
        "import os\n",
        "import time\n",
        "import numpy as np\n",
        "from PIL import Image\n",
        "import tensorflow as tf\n",
        "from tensorflow import keras\n",
        "from tensorflow.keras.preprocessing.image import ImageDataGenerator\n",
        "from tensorflow.keras import optimizers\n",
        "import matplotlib.pyplot as plt\n",
        "import pandas as pd"
      ],
      "metadata": {
        "id": "eFq_lAJR9abo"
      },
      "execution_count": 5,
      "outputs": []
    },
    {
      "cell_type": "code",
      "source": [
        "import random\n",
        "\n",
        "# The random seed\n",
        "seed_value = 354179905\n",
        "\n",
        "# 1. Set `PYTHONHASHSEED` environment variable at a fixed value\n",
        "os.environ['PYTHONHASHSEED'] = str(seed_value)\n",
        "\n",
        "# 2. Set `python` built-in pseudo-random generator at a fixed value\n",
        "random.seed(seed_value)\n",
        "\n",
        "# 3. Set `numpy` pseudo-random generator at a fixed value\n",
        "np.random.seed(seed_value)\n",
        "\n",
        "# 4. Set `tensorflow` pseudo-random generator at a fixed value\n",
        "tf.random.set_seed(seed_value)"
      ],
      "metadata": {
        "id": "6n62dXYoaDhY"
      },
      "execution_count": 35,
      "outputs": []
    },
    {
      "cell_type": "markdown",
      "source": [
        "## Model Training"
      ],
      "metadata": {
        "id": "rp5j65serKkL"
      }
    },
    {
      "cell_type": "markdown",
      "source": [
        "## Particle Swarm Optimizer\n",
        "\n",
        "1.   Paper: [Optimization of Convolutional Neural Network Using the Linearly Decreasing Weight Particle Swarm Optimization](https://arxiv.org/abs/2001.05670)\n",
        "2.   Library: [Hyperactive](https://https://github.com/SimonBlanke/Hyperactive)\n",
        "\n"
      ],
      "metadata": {
        "id": "1Qqg5YF0kSK7"
      }
    },
    {
      "cell_type": "code",
      "source": [
        "#Import Hyperactive\n",
        "!pip install hyperactive"
      ],
      "metadata": {
        "id": "_VihoHuAkyvB"
      },
      "execution_count": null,
      "outputs": []
    },
    {
      "cell_type": "code",
      "source": [
        "from hyperactive import Hyperactive\n",
        "from hyperactive.optimizers import ParticleSwarmOptimizer, RandomSearchOptimizer\n",
        "from hyperactive.optimizers.strategies import CustomOptimizationStrategy"
      ],
      "metadata": {
        "id": "PHsf_jB0qcMk"
      },
      "execution_count": 7,
      "outputs": []
    },
    {
      "cell_type": "markdown",
      "source": [
        "### Data Preprocessing"
      ],
      "metadata": {
        "id": "Qxffk8Uws2BV"
      }
    },
    {
      "cell_type": "code",
      "source": [
        "# Define path to the data directory\n",
        "train_dir = \"/content/Omdena/Alzheimer_s Dataset/train\"\n",
        "\n",
        "# Define image generator for training with augmentation\n",
        "train_datagen = ImageDataGenerator(\n",
        "    rescale=1./255,  # Rescaling\n",
        "    #brightness_range=[0.2,1.0],  # Brightness\n",
        "    #zoom_range=0.2,  # Zooming\n",
        "    #fill_mode='nearest',  # Filling\n",
        "    #horizontal_flip=True,  # Flipping\n",
        "    validation_split=0.2  # Setting the validation split to 20%\n",
        ")\n",
        "\n",
        "# Define image generator for validation with only rescaling\n",
        "val_datagen = ImageDataGenerator(\n",
        "    rescale=1./255,  # Rescaling\n",
        "    validation_split=0.2  # Setting the validation split to 20%\n",
        ")\n",
        "\n",
        "# Create a training data flow\n",
        "train_data = train_datagen.flow_from_directory(\n",
        "    train_dir,\n",
        "    target_size=(176, 176),  # Set the target size to 150x150\n",
        "    batch_size=32,\n",
        "    class_mode=\"categorical\",\n",
        "    subset='training'  # Specify that this is the training data\n",
        ")\n",
        "\n",
        "# Create a validation data flow\n",
        "val_data = val_datagen.flow_from_directory(\n",
        "    train_dir,\n",
        "    target_size=(176, 176),  # Set the target size to 150x150\n",
        "    batch_size=32,\n",
        "    class_mode=\"categorical\",\n",
        "    subset='validation'  # Specify that this is the validation data\n",
        ")\n"
      ],
      "metadata": {
        "colab": {
          "base_uri": "https://localhost:8080/"
        },
        "id": "nEDeUebcYDVp",
        "outputId": "f2899847-9505-403b-b879-7c61b2773bb2"
      },
      "execution_count": 20,
      "outputs": [
        {
          "output_type": "stream",
          "name": "stdout",
          "text": [
            "Found 4098 images belonging to 4 classes.\n",
            "Found 1023 images belonging to 4 classes.\n"
          ]
        }
      ]
    },
    {
      "cell_type": "code",
      "source": [
        "# Get list of all classes\n",
        "classes = os.listdir(train_dir)\n",
        "\n",
        "# Count number of images per class\n",
        "counts = {}\n",
        "for class_name in classes:\n",
        "    counts[class_name] = len(os.listdir(os.path.join(train_dir, class_name)))\n",
        "\n",
        "# Convert to DataFrame for easier plotting\n",
        "df_counts = pd.DataFrame.from_dict(counts, orient='index', columns=['count'])\n",
        "\n",
        "# Create bar plot\n",
        "df_counts.sort_values('count', ascending=False).plot(kind='bar', legend=False)\n",
        "plt.title('Number of images per class')\n",
        "plt.xlabel('Class')\n",
        "plt.ylabel('Count')\n",
        "plt.show()"
      ],
      "metadata": {
        "colab": {
          "base_uri": "https://localhost:8080/",
          "height": 597
        },
        "id": "tUF90bGZEDCH",
        "outputId": "b0728606-5034-41f2-c0f4-7fae60bedc8f"
      },
      "execution_count": 9,
      "outputs": [
        {
          "output_type": "display_data",
          "data": {
            "text/plain": [
              "<Figure size 640x480 with 1 Axes>"
            ],
            "image/png": "[encoded data removed]"
          },
          "metadata": {}
        }
      ]
    },
    {
      "cell_type": "markdown",
      "source": [
        "### CNN Model"
      ],
      "metadata": {
        "id": "hfaG67TJs9VS"
      }
    },
    {
      "cell_type": "code",
      "source": [
        "def model(opt):\n",
        "    # Define the model\n",
        "    model = keras.Sequential([\n",
        "        keras.layers.Conv2D(filters=opt[\"conv_filters\"], kernel_size=opt[\"conv_kernel_size\"], activation=opt[\"conv_activation\"], input_shape=(176, 176, 3)),\n",
        "        keras.layers.AveragePooling2D(),\n",
        "        keras.layers.Conv2D(filters=opt[\"conv_filters\"], kernel_size=opt[\"conv_kernel_size\"], activation=opt[\"conv_activation\"]),\n",
        "        keras.layers.AveragePooling2D(),\n",
        "        keras.layers.Flatten(),\n",
        "        keras.layers.Dense(units=opt[\"dense_units\"], activation=opt[\"dense_activation\"]),\n",
        "        keras.layers.Dense(units=opt[\"dense_units\"], activation=opt[\"dense_activation\"]),\n",
        "        keras.layers.Dense(units=4, activation=\"softmax\")\n",
        "    ])\n",
        "    # Instantiate an optimizer with a learning rate\n",
        "    if opt[\"optimizer\"] == \"adam\":\n",
        "         optimizer = keras.optimizers.Adam(learning_rate=0.001)\n",
        "    elif opt[\"optimizer\"] == \"sgd\":\n",
        "         optimizer = keras.optimizers.SGD(learning_rate=0.001)\n",
        "\n",
        "    # Compile the model\n",
        "    model.compile(optimizer=opt[\"optimizer\"], loss=\"categorical_crossentropy\", metrics=[\"accuracy\"])\n",
        "\n",
        "    # Train the model\n",
        "    model.fit(train_data, epochs=opt[\"n_epochs\"], batch_size=opt[\"batch_size\"], verbose=2)\n",
        "\n",
        "    # Evaluate the model\n",
        "    score = model.evaluate(val_data)[1]\n",
        "\n",
        "    return score"
      ],
      "metadata": {
        "id": "0cmD51gtEGvi"
      },
      "execution_count": 25,
      "outputs": []
    },
    {
      "cell_type": "code",
      "source": [
        "search_space = {\n",
        "    \"n_epochs\": [10, 20],\n",
        "    \"batch_size\": list(range(10, 100)),\n",
        "    \"optimizer\": [\"adam\", \"sgd\"],\n",
        "    \"conv_filters\": list(range(4, 100)),\n",
        "    \"conv_kernel_size\": [3, 5, 7],\n",
        "    \"conv_activation\": [\"sigmoid\", \"relu\", \"tanh\"],\n",
        "    \"dense_units\": list(range(4, 200)),\n",
        "    \"dense_activation\": [\"sigmoid\", \"relu\", \"tanh\"],\n",
        "\n",
        "}\n",
        "\n",
        "PSoptimizer = ParticleSwarmOptimizer(\n",
        "    inertia=0.4,\n",
        "    cognitive_weight=2,\n",
        "    social_weight=2,\n",
        ")\n",
        "\n",
        "# Create an instance of the optimizer\n",
        "opt_strat = CustomOptimizationStrategy()\n",
        "opt_strat.add_optimizer(ParticleSwarmOptimizer(), duration=0.4, early_stopping={\"n_iter_no_change\": 5})\n",
        "opt_strat.add_optimizer(RandomSearchOptimizer(), duration=0.2)\n",
        "opt_strat.add_optimizer(ParticleSwarmOptimizer(), duration=0.4)\n",
        "\n",
        "c_time1 = time.time()\n",
        "hyper = Hyperactive()\n",
        "hyper.add_search(model, search_space, optimizer=PSoptimizer, n_iter=10)\n",
        "hyper.run()\n",
        "d_time1 = time.time() - c_time1\n",
        "print(\"Optimization time 1:\", round(d_time1, 2))\n",
        "\n",
        "# Hyperactive collects the search data\n",
        "search_data = hyper.search_data(model)\n",
        "\n",
        "# You can pass the search data to memory_warm_start to save time\n",
        "c_time2 = time.time()\n",
        "hyper = Hyperactive()\n",
        "hyper.add_search(model, search_space, optimizer=opt_strat, n_iter=5, memory_warm_start=search_data)\n",
        "# The next run will be faster, because Hyperactive knows parts of the search space\n",
        "hyper.run()\n",
        "d_time2 = time.time() - c_time2\n",
        "print(\"Optimization time 2:\", round(d_time2, 2))\n"
      ],
      "metadata": {
        "id": "mx5WptISE3X8",
        "colab": {
          "base_uri": "https://localhost:8080/"
        },
        "outputId": "91a2c96c-3f8e-4a85-b39b-e7df6ad023c6"
      },
      "execution_count": 26,
      "outputs": [
        {
          "output_type": "stream",
          "name": "stderr",
          "text": [
            "[0] model (Particle Swarm Optimization):   0%|\u001b[33m          \u001b[0m| 0/10 [00:00<?, ?it/s]"
          ]
        },
        {
          "output_type": "stream",
          "name": "stdout",
          "text": [
            "Epoch 1/10\n",
            "129/129 - 7s - loss: 1.0175 - accuracy: 0.5017 - 7s/epoch - 57ms/step\n",
            "Epoch 2/10\n",
            "129/129 - 6s - loss: 0.9473 - accuracy: 0.5471 - 6s/epoch - 46ms/step\n",
            "Epoch 3/10\n",
            "129/129 - 4s - loss: 0.9067 - accuracy: 0.5805 - 4s/epoch - 35ms/step\n",
            "Epoch 4/10\n",
            "129/129 - 5s - loss: 0.8654 - accuracy: 0.5969 - 5s/epoch - 37ms/step\n",
            "Epoch 5/10\n",
            "129/129 - 6s - loss: 0.8438 - accuracy: 0.6137 - 6s/epoch - 48ms/step\n",
            "Epoch 6/10\n",
            "129/129 - 5s - loss: 0.8088 - accuracy: 0.6362 - 5s/epoch - 36ms/step\n",
            "Epoch 7/10\n",
            "129/129 - 5s - loss: 0.8091 - accuracy: 0.6376 - 5s/epoch - 38ms/step\n",
            "Epoch 8/10\n",
            "129/129 - 6s - loss: 0.7458 - accuracy: 0.6637 - 6s/epoch - 45ms/step\n",
            "Epoch 9/10\n",
            "129/129 - 6s - loss: 0.7406 - accuracy: 0.6769 - 6s/epoch - 44ms/step\n",
            "Epoch 10/10\n",
            "129/129 - 5s - loss: 0.6895 - accuracy: 0.6986 - 5s/epoch - 37ms/step\n",
            "32/32 [==============================] - 2s 47ms/step - loss: 1.1150 - accuracy: 0.5005\n"
          ]
        },
        {
          "output_type": "stream",
          "name": "stderr",
          "text": [
            "[0] model (Particle Swarm Optimization):  10%|\u001b[33m─         \u001b[0m| 1/10 [01:01<09:11, 61.29s/it, best_iter=0, best_pos=None, best_score=-inf]"
          ]
        },
        {
          "output_type": "stream",
          "name": "stdout",
          "text": [
            "Epoch 1/10\n",
            "129/129 - 8s - loss: 1.1048 - accuracy: 0.4768 - 8s/epoch - 64ms/step\n",
            "Epoch 2/10\n",
            "129/129 - 5s - loss: 1.0494 - accuracy: 0.4912 - 5s/epoch - 35ms/step\n",
            "Epoch 3/10\n",
            "129/129 - 4s - loss: 1.0468 - accuracy: 0.4907 - 4s/epoch - 34ms/step\n",
            "Epoch 4/10\n",
            "129/129 - 6s - loss: 1.0528 - accuracy: 0.4963 - 6s/epoch - 43ms/step\n",
            "Epoch 5/10\n",
            "129/129 - 5s - loss: 1.0455 - accuracy: 0.4863 - 5s/epoch - 36ms/step\n",
            "Epoch 6/10\n",
            "129/129 - 5s - loss: 1.0461 - accuracy: 0.4998 - 5s/epoch - 42ms/step\n",
            "Epoch 7/10\n",
            "129/129 - 4s - loss: 1.0506 - accuracy: 0.4924 - 4s/epoch - 33ms/step\n",
            "Epoch 8/10\n",
            "129/129 - 5s - loss: 1.0435 - accuracy: 0.4976 - 5s/epoch - 41ms/step\n",
            "Epoch 9/10\n",
            "129/129 - 5s - loss: 1.0464 - accuracy: 0.4871 - 5s/epoch - 39ms/step\n",
            "Epoch 10/10\n",
            "129/129 - 5s - loss: 1.0460 - accuracy: 0.4915 - 5s/epoch - 37ms/step\n",
            "32/32 [==============================] - 1s 42ms/step - loss: 1.0416 - accuracy: 0.5005\n"
          ]
        },
        {
          "output_type": "stream",
          "name": "stderr",
          "text": [
            "[0] model (Particle Swarm Optimization):  20%|\u001b[33m──        \u001b[0m| 2/10 [02:01<08:03, 60.41s/it, best_iter=0, best_pos=None, best_score=-inf]"
          ]
        },
        {
          "output_type": "stream",
          "name": "stdout",
          "text": [
            "Epoch 1/10\n",
            "129/129 - 9s - loss: 1.0029 - accuracy: 0.5227 - 9s/epoch - 69ms/step\n",
            "Epoch 2/10\n",
            "129/129 - 5s - loss: 0.7311 - accuracy: 0.6730 - 5s/epoch - 38ms/step\n",
            "Epoch 3/10\n",
            "129/129 - 6s - loss: 0.3737 - accuracy: 0.8524 - 6s/epoch - 47ms/step\n",
            "Epoch 4/10\n",
            "129/129 - 5s - loss: 0.2036 - accuracy: 0.9200 - 5s/epoch - 37ms/step\n",
            "Epoch 5/10\n",
            "129/129 - 6s - loss: 0.0605 - accuracy: 0.9812 - 6s/epoch - 48ms/step\n",
            "Epoch 6/10\n",
            "129/129 - 5s - loss: 0.0149 - accuracy: 0.9966 - 5s/epoch - 40ms/step\n",
            "Epoch 7/10\n",
            "129/129 - 5s - loss: 0.0387 - accuracy: 0.9863 - 5s/epoch - 38ms/step\n",
            "Epoch 8/10\n",
            "129/129 - 5s - loss: 0.0208 - accuracy: 0.9937 - 5s/epoch - 42ms/step\n",
            "Epoch 9/10\n",
            "129/129 - 5s - loss: 0.0044 - accuracy: 0.9993 - 5s/epoch - 38ms/step\n",
            "Epoch 10/10\n",
            "129/129 - 6s - loss: 5.8156e-04 - accuracy: 1.0000 - 6s/epoch - 49ms/step\n",
            "32/32 [==============================] - 2s 52ms/step - loss: 0.9712 - accuracy: 0.7918\n"
          ]
        },
        {
          "output_type": "stream",
          "name": "stderr",
          "text": [
            "[0] model (Particle Swarm Optimization):  30%|\u001b[33m───       \u001b[0m| 3/10 [03:18<07:58, 68.37s/it, best_iter=0, best_pos=None, best_score=-inf]"
          ]
        },
        {
          "output_type": "stream",
          "name": "stdout",
          "text": [
            "Epoch 1/20\n",
            "129/129 - 8s - loss: 1.5716 - accuracy: 0.4976 - 8s/epoch - 60ms/step\n",
            "Epoch 2/20\n",
            "129/129 - 4s - loss: 1.2213 - accuracy: 0.4998 - 4s/epoch - 31ms/step\n",
            "Epoch 3/20\n",
            "129/129 - 4s - loss: 1.1069 - accuracy: 0.4998 - 4s/epoch - 33ms/step\n",
            "Epoch 4/20\n",
            "129/129 - 6s - loss: 1.0678 - accuracy: 0.4998 - 6s/epoch - 45ms/step\n",
            "Epoch 5/20\n",
            "129/129 - 5s - loss: 1.0528 - accuracy: 0.4998 - 5s/epoch - 36ms/step\n",
            "Epoch 6/20\n",
            "129/129 - 6s - loss: 1.0459 - accuracy: 0.4998 - 6s/epoch - 43ms/step\n",
            "Epoch 7/20\n",
            "129/129 - 4s - loss: 1.0421 - accuracy: 0.4998 - 4s/epoch - 31ms/step\n",
            "Epoch 8/20\n",
            "129/129 - 5s - loss: 1.0401 - accuracy: 0.4998 - 5s/epoch - 35ms/step\n",
            "Epoch 9/20\n",
            "129/129 - 5s - loss: 1.0389 - accuracy: 0.4998 - 5s/epoch - 39ms/step\n",
            "Epoch 10/20\n",
            "129/129 - 4s - loss: 1.0382 - accuracy: 0.4998 - 4s/epoch - 31ms/step\n",
            "Epoch 11/20\n",
            "129/129 - 5s - loss: 1.0377 - accuracy: 0.4998 - 5s/epoch - 36ms/step\n",
            "Epoch 12/20\n",
            "129/129 - 5s - loss: 1.0372 - accuracy: 0.4998 - 5s/epoch - 38ms/step\n",
            "Epoch 13/20\n",
            "129/129 - 4s - loss: 1.0370 - accuracy: 0.4998 - 4s/epoch - 31ms/step\n",
            "Epoch 14/20\n",
            "129/129 - 5s - loss: 1.0370 - accuracy: 0.4998 - 5s/epoch - 38ms/step\n",
            "Epoch 15/20\n",
            "129/129 - 5s - loss: 1.0371 - accuracy: 0.4998 - 5s/epoch - 37ms/step\n",
            "Epoch 16/20\n",
            "129/129 - 4s - loss: 1.0368 - accuracy: 0.4998 - 4s/epoch - 32ms/step\n",
            "Epoch 17/20\n",
            "129/129 - 5s - loss: 1.0370 - accuracy: 0.4998 - 5s/epoch - 40ms/step\n",
            "Epoch 18/20\n",
            "129/129 - 4s - loss: 1.0370 - accuracy: 0.4998 - 4s/epoch - 30ms/step\n",
            "Epoch 19/20\n",
            "129/129 - 6s - loss: 1.0368 - accuracy: 0.4998 - 6s/epoch - 44ms/step\n",
            "Epoch 20/20\n",
            "129/129 - 4s - loss: 1.0369 - accuracy: 0.4998 - 4s/epoch - 33ms/step\n",
            "32/32 [==============================] - 1s 42ms/step - loss: 1.0342 - accuracy: 0.5005\n"
          ]
        },
        {
          "output_type": "stream",
          "name": "stderr",
          "text": [
            "[0] model (Particle Swarm Optimization):  40%|\u001b[33m────      \u001b[0m| 4/10 [05:10<08:33, 85.57s/it, best_iter=0, best_pos=None, best_score=-inf]"
          ]
        },
        {
          "output_type": "stream",
          "name": "stdout",
          "text": [
            "Epoch 1/10\n",
            "129/129 - 7s - loss: 1.1696 - accuracy: 0.4993 - 7s/epoch - 51ms/step\n",
            "Epoch 2/10\n",
            "129/129 - 4s - loss: 1.0800 - accuracy: 0.4998 - 4s/epoch - 32ms/step\n",
            "Epoch 3/10\n",
            "129/129 - 4s - loss: 1.0594 - accuracy: 0.4998 - 4s/epoch - 31ms/step\n",
            "Epoch 4/10\n",
            "129/129 - 5s - loss: 1.0515 - accuracy: 0.4998 - 5s/epoch - 41ms/step\n",
            "Epoch 5/10\n",
            "129/129 - 4s - loss: 1.0471 - accuracy: 0.4998 - 4s/epoch - 31ms/step\n",
            "Epoch 6/10\n",
            "129/129 - 4s - loss: 1.0443 - accuracy: 0.4998 - 4s/epoch - 30ms/step\n",
            "Epoch 7/10\n",
            "129/129 - 5s - loss: 1.0426 - accuracy: 0.4998 - 5s/epoch - 40ms/step\n",
            "Epoch 8/10\n",
            "129/129 - 4s - loss: 1.0413 - accuracy: 0.4998 - 4s/epoch - 30ms/step\n",
            "Epoch 9/10\n",
            "129/129 - 4s - loss: 1.0403 - accuracy: 0.4998 - 4s/epoch - 30ms/step\n",
            "Epoch 10/10\n",
            "129/129 - 5s - loss: 1.0394 - accuracy: 0.4998 - 5s/epoch - 37ms/step\n",
            "32/32 [==============================] - 2s 41ms/step - loss: 1.0370 - accuracy: 0.5005\n"
          ]
        },
        {
          "output_type": "stream",
          "name": "stderr",
          "text": [
            "[0] model (Particle Swarm Optimization):  50%|\u001b[33m─────     \u001b[0m| 5/10 [05:59<06:01, 72.29s/it, best_iter=0, best_pos=None, best_score=-inf]"
          ]
        },
        {
          "output_type": "stream",
          "name": "stdout",
          "text": [
            "Epoch 1/10\n"
          ]
        },
        {
          "output_type": "stream",
          "name": "stderr",
          "text": [
            "[0] model (Particle Swarm Optimization):   0%|\u001b[33m          \u001b[0m| 0/10 [15:32<?, ?it/s]\n",
            "[0] model (Particle Swarm Optimization):   0%|\u001b[33m          \u001b[0m| 0/10 [16:13<?, ?it/s]\n",
            "[0] model (Particle Swarm Optimization):   0%|\u001b[33m          \u001b[0m| 0/10 [15:00<?, ?it/s]\n",
            "[0] model (Particle Swarm Optimization):   0%|\u001b[33m          \u001b[0m| 0/10 [10:45<?, ?it/s]\n",
            "[0] model (Particle Swarm Optimization):   0%|\u001b[33m          \u001b[0m| 0/10 [10:29<?, ?it/s]\n",
            "[0] model (Particle Swarm Optimization):   0%|\u001b[33m          \u001b[0m| 0/10 [09:50<?, ?it/s]\n"
          ]
        },
        {
          "output_type": "stream",
          "name": "stdout",
          "text": [
            "129/129 - 6s - loss: 1.1039 - accuracy: 0.4956 - 6s/epoch - 48ms/step\n",
            "Epoch 2/10\n",
            "129/129 - 5s - loss: 1.0600 - accuracy: 0.4998 - 5s/epoch - 39ms/step\n",
            "Epoch 3/10\n",
            "129/129 - 4s - loss: 1.0473 - accuracy: 0.4998 - 4s/epoch - 34ms/step\n",
            "Epoch 4/10\n",
            "129/129 - 4s - loss: 1.0419 - accuracy: 0.4998 - 4s/epoch - 31ms/step\n",
            "Epoch 5/10\n",
            "129/129 - 5s - loss: 1.0394 - accuracy: 0.4998 - 5s/epoch - 41ms/step\n",
            "Epoch 6/10\n",
            "129/129 - 4s - loss: 1.0380 - accuracy: 0.4998 - 4s/epoch - 34ms/step\n",
            "Epoch 7/10\n",
            "129/129 - 5s - loss: 1.0379 - accuracy: 0.4998 - 5s/epoch - 39ms/step\n",
            "Epoch 8/10\n",
            "129/129 - 4s - loss: 1.0372 - accuracy: 0.4998 - 4s/epoch - 31ms/step\n",
            "Epoch 9/10\n",
            "129/129 - 5s - loss: 1.0371 - accuracy: 0.4998 - 5s/epoch - 36ms/step\n",
            "Epoch 10/10\n",
            "129/129 - 5s - loss: 1.0370 - accuracy: 0.4998 - 5s/epoch - 37ms/step\n",
            "32/32 [==============================] - 1s 31ms/step - loss: 1.0343 - accuracy: 0.5005\n"
          ]
        },
        {
          "output_type": "stream",
          "name": "stderr",
          "text": [
            "[0] model (Particle Swarm Optimization):  60%|\u001b[33m──────    \u001b[0m| 6/10 [06:55<04:27, 66.77s/it, best_iter=0, best_pos=None, best_score=-inf]"
          ]
        },
        {
          "output_type": "stream",
          "name": "stdout",
          "text": [
            "Epoch 1/20\n",
            "129/129 - 5s - loss: 1.3751 - accuracy: 0.2975 - 5s/epoch - 40ms/step\n",
            "Epoch 2/20\n",
            "129/129 - 5s - loss: 1.1960 - accuracy: 0.4998 - 5s/epoch - 41ms/step\n",
            "Epoch 3/20\n",
            "129/129 - 4s - loss: 1.1290 - accuracy: 0.4998 - 4s/epoch - 31ms/step\n",
            "Epoch 4/20\n",
            "129/129 - 4s - loss: 1.0984 - accuracy: 0.4998 - 4s/epoch - 31ms/step\n",
            "Epoch 5/20\n",
            "129/129 - 5s - loss: 1.0810 - accuracy: 0.4998 - 5s/epoch - 37ms/step\n",
            "Epoch 6/20\n",
            "129/129 - 4s - loss: 1.0701 - accuracy: 0.4998 - 4s/epoch - 31ms/step\n",
            "Epoch 7/20\n",
            "129/129 - 4s - loss: 1.0627 - accuracy: 0.4998 - 4s/epoch - 34ms/step\n",
            "Epoch 8/20\n",
            "129/129 - 5s - loss: 1.0563 - accuracy: 0.4998 - 5s/epoch - 37ms/step\n",
            "Epoch 9/20\n",
            "129/129 - 4s - loss: 1.0508 - accuracy: 0.4998 - 4s/epoch - 32ms/step\n",
            "Epoch 10/20\n",
            "129/129 - 5s - loss: 1.0476 - accuracy: 0.4998 - 5s/epoch - 38ms/step\n",
            "Epoch 11/20\n",
            "129/129 - 4s - loss: 1.0450 - accuracy: 0.4998 - 4s/epoch - 34ms/step\n",
            "Epoch 12/20\n",
            "129/129 - 4s - loss: 1.0430 - accuracy: 0.4998 - 4s/epoch - 31ms/step\n",
            "Epoch 13/20\n",
            "129/129 - 5s - loss: 1.0416 - accuracy: 0.4998 - 5s/epoch - 39ms/step\n",
            "Epoch 14/20\n",
            "129/129 - 4s - loss: 1.0408 - accuracy: 0.4998 - 4s/epoch - 34ms/step\n",
            "Epoch 15/20\n",
            "129/129 - 4s - loss: 1.0401 - accuracy: 0.4998 - 4s/epoch - 32ms/step\n",
            "Epoch 16/20\n",
            "129/129 - 5s - loss: 1.0396 - accuracy: 0.4998 - 5s/epoch - 42ms/step\n",
            "Epoch 17/20\n",
            "129/129 - 4s - loss: 1.0391 - accuracy: 0.4998 - 4s/epoch - 31ms/step\n",
            "Epoch 18/20\n",
            "129/129 - 4s - loss: 1.0387 - accuracy: 0.4998 - 4s/epoch - 32ms/step\n",
            "Epoch 19/20\n",
            "129/129 - 5s - loss: 1.0384 - accuracy: 0.4998 - 5s/epoch - 35ms/step\n",
            "Epoch 20/20\n",
            "129/129 - 4s - loss: 1.0383 - accuracy: 0.4998 - 4s/epoch - 31ms/step\n",
            "32/32 [==============================] - 1s 32ms/step - loss: 1.0359 - accuracy: 0.5005\n"
          ]
        },
        {
          "output_type": "stream",
          "name": "stderr",
          "text": [
            "[0] model (Particle Swarm Optimization):  70%|\u001b[33m───────   \u001b[0m| 7/10 [08:31<03:48, 76.17s/it, best_iter=0, best_pos=None, best_score=-inf]"
          ]
        },
        {
          "output_type": "stream",
          "name": "stdout",
          "text": [
            "Epoch 1/10\n",
            "129/129 - 9s - loss: 1.0117 - accuracy: 0.5190 - 9s/epoch - 66ms/step\n",
            "Epoch 2/10\n",
            "129/129 - 5s - loss: 0.9160 - accuracy: 0.5778 - 5s/epoch - 36ms/step\n",
            "Epoch 3/10\n",
            "129/129 - 6s - loss: 0.8357 - accuracy: 0.6223 - 6s/epoch - 44ms/step\n",
            "Epoch 4/10\n",
            "129/129 - 4s - loss: 0.7569 - accuracy: 0.6679 - 4s/epoch - 34ms/step\n",
            "Epoch 5/10\n",
            "129/129 - 5s - loss: 0.6881 - accuracy: 0.6981 - 5s/epoch - 37ms/step\n",
            "Epoch 6/10\n",
            "129/129 - 5s - loss: 0.5861 - accuracy: 0.7574 - 5s/epoch - 41ms/step\n",
            "Epoch 7/10\n",
            "129/129 - 5s - loss: 0.4967 - accuracy: 0.7909 - 5s/epoch - 36ms/step\n",
            "Epoch 8/10\n",
            "129/129 - 6s - loss: 0.4149 - accuracy: 0.8311 - 6s/epoch - 45ms/step\n",
            "Epoch 9/10\n",
            "129/129 - 5s - loss: 0.3272 - accuracy: 0.8777 - 5s/epoch - 36ms/step\n",
            "Epoch 10/10\n",
            "129/129 - 4s - loss: 0.2887 - accuracy: 0.8951 - 4s/epoch - 35ms/step\n",
            "32/32 [==============================] - 2s 63ms/step - loss: 0.8013 - accuracy: 0.6393\n"
          ]
        },
        {
          "output_type": "stream",
          "name": "stderr",
          "text": [
            "[0] model (Particle Swarm Optimization):  80%|\u001b[33m────────  \u001b[0m| 8/10 [09:27<02:19, 69.87s/it, best_iter=0, best_pos=None, best_score=-inf]"
          ]
        },
        {
          "output_type": "stream",
          "name": "stdout",
          "text": [
            "Epoch 1/10\n",
            "129/129 - 8s - loss: 1.0711 - accuracy: 0.4768 - 8s/epoch - 58ms/step\n",
            "Epoch 2/10\n",
            "129/129 - 5s - loss: 1.0402 - accuracy: 0.4998 - 5s/epoch - 36ms/step\n",
            "Epoch 3/10\n",
            "129/129 - 5s - loss: 1.0390 - accuracy: 0.4998 - 5s/epoch - 39ms/step\n",
            "Epoch 4/10\n",
            "129/129 - 4s - loss: 1.0399 - accuracy: 0.4998 - 4s/epoch - 32ms/step\n",
            "Epoch 5/10\n",
            "129/129 - 5s - loss: 1.0398 - accuracy: 0.4998 - 5s/epoch - 39ms/step\n",
            "Epoch 6/10\n",
            "129/129 - 5s - loss: 1.0392 - accuracy: 0.4998 - 5s/epoch - 38ms/step\n",
            "Epoch 7/10\n",
            "129/129 - 4s - loss: 1.0388 - accuracy: 0.4998 - 4s/epoch - 34ms/step\n",
            "Epoch 8/10\n",
            "129/129 - 5s - loss: 1.0389 - accuracy: 0.4998 - 5s/epoch - 41ms/step\n",
            "Epoch 9/10\n",
            "129/129 - 4s - loss: 1.0380 - accuracy: 0.4998 - 4s/epoch - 33ms/step\n",
            "Epoch 10/10\n",
            "129/129 - 4s - loss: 1.0382 - accuracy: 0.4998 - 4s/epoch - 33ms/step\n",
            "32/32 [==============================] - 2s 69ms/step - loss: 1.0347 - accuracy: 0.5005\n"
          ]
        },
        {
          "output_type": "stream",
          "name": "stderr",
          "text": [
            "[0] model (Particle Swarm Optimization):  90%|\u001b[33m───────── \u001b[0m| 9/10 [10:21<01:04, 64.76s/it, best_iter=0, best_pos=None, best_score=-inf]"
          ]
        },
        {
          "output_type": "stream",
          "name": "stdout",
          "text": [
            "Epoch 1/10\n",
            "129/129 - 11s - loss: 1.0552 - accuracy: 0.4839 - 11s/epoch - 83ms/step\n",
            "Epoch 2/10\n",
            "129/129 - 7s - loss: 1.0515 - accuracy: 0.4917 - 7s/epoch - 55ms/step\n",
            "Epoch 3/10\n",
            "129/129 - 7s - loss: 1.0452 - accuracy: 0.4766 - 7s/epoch - 54ms/step\n",
            "Epoch 4/10\n",
            "129/129 - 7s - loss: 1.0456 - accuracy: 0.4941 - 7s/epoch - 53ms/step\n",
            "Epoch 5/10\n",
            "129/129 - 7s - loss: 1.0465 - accuracy: 0.4907 - 7s/epoch - 56ms/step\n",
            "Epoch 6/10\n",
            "129/129 - 7s - loss: 1.0492 - accuracy: 0.4795 - 7s/epoch - 53ms/step\n",
            "Epoch 7/10\n",
            "129/129 - 7s - loss: 1.0423 - accuracy: 0.4851 - 7s/epoch - 55ms/step\n",
            "Epoch 8/10\n",
            "129/129 - 7s - loss: 1.0410 - accuracy: 0.4998 - 7s/epoch - 53ms/step\n",
            "Epoch 9/10\n",
            "129/129 - 7s - loss: 1.0427 - accuracy: 0.4954 - 7s/epoch - 56ms/step\n",
            "Epoch 10/10\n",
            "129/129 - 7s - loss: 1.0422 - accuracy: 0.4927 - 7s/epoch - 54ms/step\n",
            "32/32 [==============================] - 3s 78ms/step - loss: 1.0355 - accuracy: 0.5005\n"
          ]
        },
        {
          "output_type": "stream",
          "name": "stderr",
          "text": [
            "[0] model (Particle Swarm Optimization): 100%|\u001b[32m──────────\u001b[0m| 10/10 [11:41<00:00, 70.16s/it, best_iter=0, best_pos=None, best_score=-inf]"
          ]
        },
        {
          "output_type": "stream",
          "name": "stdout",
          "text": [
            "\n",
            "\n",
            "Results: 'model'  \n",
            "   Best score: 0.7917888760566711  \n",
            "   Best parameter set:\n",
            "      'n_epochs'         : 10  \n",
            "      'batch_size'       : 54  \n",
            "      'optimizer'        : adam  \n",
            "      'conv_filters'     : 51  \n",
            "      'conv_kernel_size' : 5  \n",
            "      'conv_activation'  : relu  \n",
            "      'dense_units'      : 101  \n",
            "      'dense_activation' : relu  \n",
            "   Best iteration: 0  \n",
            " \n",
            "   Random seed: 922661648  \n",
            " \n",
            "   Evaluation time   : 701.4581439495087 sec    [100.0 %]\n",
            "   Optimization time : 0.0014979839324951172 sec    [0.0 %]\n",
            "   Iteration time    : 701.4596419334412 sec    [70.15 sec/iter]\n",
            " \n",
            "Optimization time 1: 701.65\n"
          ]
        },
        {
          "output_type": "stream",
          "name": "stderr",
          "text": [
            "\n"
          ]
        },
        {
          "output_type": "stream",
          "name": "stdout",
          "text": [
            "Epoch 1/20\n",
            "129/129 - 19s - loss: 1.0132 - accuracy: 0.5139 - 19s/epoch - 149ms/step\n",
            "Epoch 2/20\n",
            "129/129 - 13s - loss: 0.8863 - accuracy: 0.5925 - 13s/epoch - 103ms/step\n",
            "Epoch 3/20\n",
            "129/129 - 13s - loss: 0.8119 - accuracy: 0.6410 - 13s/epoch - 103ms/step\n",
            "Epoch 4/20\n",
            "129/129 - 13s - loss: 0.7218 - accuracy: 0.6813 - 13s/epoch - 104ms/step\n",
            "Epoch 5/20\n",
            "129/129 - 13s - loss: 0.6406 - accuracy: 0.7343 - 13s/epoch - 104ms/step\n",
            "Epoch 6/20\n",
            "129/129 - 13s - loss: 0.5286 - accuracy: 0.7731 - 13s/epoch - 104ms/step\n",
            "Epoch 7/20\n",
            "129/129 - 13s - loss: 0.4462 - accuracy: 0.8177 - 13s/epoch - 103ms/step\n",
            "Epoch 8/20\n",
            "129/129 - 13s - loss: 0.3518 - accuracy: 0.8716 - 13s/epoch - 103ms/step\n",
            "Epoch 9/20\n",
            "129/129 - 13s - loss: 0.2919 - accuracy: 0.8917 - 13s/epoch - 103ms/step\n",
            "Epoch 10/20\n",
            "129/129 - 13s - loss: 0.2350 - accuracy: 0.9190 - 13s/epoch - 102ms/step\n",
            "Epoch 11/20\n",
            "129/129 - 13s - loss: 0.1700 - accuracy: 0.9446 - 13s/epoch - 103ms/step\n",
            "Epoch 12/20\n",
            "129/129 - 13s - loss: 0.1127 - accuracy: 0.9636 - 13s/epoch - 103ms/step\n",
            "Epoch 13/20\n",
            "129/129 - 13s - loss: 0.1410 - accuracy: 0.9607 - 13s/epoch - 103ms/step\n",
            "Epoch 14/20\n",
            "129/129 - 13s - loss: 0.0552 - accuracy: 0.9856 - 13s/epoch - 103ms/step\n",
            "Epoch 15/20\n",
            "129/129 - 13s - loss: 0.0888 - accuracy: 0.9824 - 13s/epoch - 103ms/step\n",
            "Epoch 16/20\n",
            "129/129 - 13s - loss: 0.0280 - accuracy: 0.9961 - 13s/epoch - 103ms/step\n",
            "Epoch 17/20\n",
            "129/129 - 13s - loss: 0.0513 - accuracy: 0.9861 - 13s/epoch - 103ms/step\n",
            "Epoch 18/20\n",
            "129/129 - 13s - loss: 0.0117 - accuracy: 0.9998 - 13s/epoch - 103ms/step\n",
            "Epoch 19/20\n",
            "129/129 - 13s - loss: 0.0086 - accuracy: 0.9995 - 13s/epoch - 103ms/step\n",
            "Epoch 20/20\n",
            "129/129 - 13s - loss: 0.0057 - accuracy: 1.0000 - 13s/epoch - 103ms/step\n",
            "32/32 [==============================] - 3s 84ms/step - loss: 0.5932 - accuracy: 0.8055\n",
            "Epoch 1/10\n",
            "129/129 - 6s - loss: 1.0315 - accuracy: 0.4966 - 6s/epoch - 45ms/step\n",
            "Epoch 2/10\n",
            "129/129 - 4s - loss: 0.9869 - accuracy: 0.5246 - 4s/epoch - 29ms/step\n",
            "Epoch 3/10\n",
            "129/129 - 5s - loss: 0.9332 - accuracy: 0.5554 - 5s/epoch - 35ms/step\n",
            "Epoch 4/10\n",
            "129/129 - 4s - loss: 0.8834 - accuracy: 0.5869 - 4s/epoch - 34ms/step\n",
            "Epoch 5/10\n",
            "129/129 - 4s - loss: 0.8330 - accuracy: 0.6171 - 4s/epoch - 30ms/step\n",
            "Epoch 6/10\n",
            "129/129 - 6s - loss: 0.8558 - accuracy: 0.6054 - 6s/epoch - 43ms/step\n",
            "Epoch 7/10\n",
            "129/129 - 4s - loss: 0.7510 - accuracy: 0.6593 - 4s/epoch - 32ms/step\n",
            "Epoch 8/10\n",
            "129/129 - 5s - loss: 0.6963 - accuracy: 0.6918 - 5s/epoch - 40ms/step\n",
            "Epoch 9/10\n",
            "129/129 - 4s - loss: 0.6398 - accuracy: 0.7196 - 4s/epoch - 31ms/step\n",
            "Epoch 10/10\n",
            "129/129 - 4s - loss: 0.5424 - accuracy: 0.7772 - 4s/epoch - 31ms/step\n",
            "32/32 [==============================] - 2s 50ms/step - loss: 1.0281 - accuracy: 0.5220\n",
            "Epoch 1/20\n",
            "129/129 - 7s - loss: 1.1036 - accuracy: 0.4578 - 7s/epoch - 56ms/step\n",
            "Epoch 2/20\n",
            "129/129 - 4s - loss: 1.0592 - accuracy: 0.4597 - 4s/epoch - 32ms/step\n",
            "Epoch 3/20\n",
            "129/129 - 5s - loss: 1.0501 - accuracy: 0.4812 - 5s/epoch - 42ms/step\n",
            "Epoch 4/20\n",
            "129/129 - 5s - loss: 1.0478 - accuracy: 0.4873 - 5s/epoch - 36ms/step\n",
            "Epoch 5/20\n",
            "129/129 - 5s - loss: 1.0439 - accuracy: 0.4998 - 5s/epoch - 37ms/step\n",
            "Epoch 6/20\n",
            "129/129 - 5s - loss: 1.0441 - accuracy: 0.4963 - 5s/epoch - 35ms/step\n",
            "Epoch 7/20\n",
            "129/129 - 5s - loss: 1.0479 - accuracy: 0.4846 - 5s/epoch - 36ms/step\n",
            "Epoch 8/20\n",
            "129/129 - 5s - loss: 1.0450 - accuracy: 0.4898 - 5s/epoch - 39ms/step\n",
            "Epoch 9/20\n",
            "129/129 - 4s - loss: 1.0511 - accuracy: 0.4858 - 4s/epoch - 33ms/step\n",
            "Epoch 10/20\n",
            "129/129 - 4s - loss: 1.0414 - accuracy: 0.4966 - 4s/epoch - 33ms/step\n",
            "Epoch 11/20\n",
            "129/129 - 5s - loss: 1.0468 - accuracy: 0.4839 - 5s/epoch - 41ms/step\n",
            "Epoch 12/20\n",
            "129/129 - 4s - loss: 1.0505 - accuracy: 0.4768 - 4s/epoch - 32ms/step\n",
            "Epoch 13/20\n",
            "129/129 - 4s - loss: 1.0463 - accuracy: 0.4949 - 4s/epoch - 34ms/step\n",
            "Epoch 14/20\n",
            "129/129 - 5s - loss: 1.0484 - accuracy: 0.4876 - 5s/epoch - 42ms/step\n",
            "Epoch 15/20\n",
            "129/129 - 4s - loss: 1.0578 - accuracy: 0.4705 - 4s/epoch - 32ms/step\n",
            "Epoch 16/20\n",
            "129/129 - 4s - loss: 1.0438 - accuracy: 0.4998 - 4s/epoch - 33ms/step\n",
            "Epoch 17/20\n",
            "129/129 - 6s - loss: 1.0492 - accuracy: 0.4846 - 6s/epoch - 44ms/step\n",
            "Epoch 18/20\n",
            "129/129 - 4s - loss: 1.0428 - accuracy: 0.4934 - 4s/epoch - 31ms/step\n",
            "Epoch 19/20\n",
            "129/129 - 5s - loss: 1.0423 - accuracy: 0.4905 - 5s/epoch - 39ms/step\n",
            "Epoch 20/20\n",
            "129/129 - 5s - loss: 1.0440 - accuracy: 0.4922 - 5s/epoch - 40ms/step\n",
            "32/32 [==============================] - 2s 46ms/step - loss: 1.0357 - accuracy: 0.5005\n",
            "\n",
            "\n",
            "Results: 'model'  \n",
            "   Best score: 0.8054741024971008  \n",
            "   Best parameter set:\n",
            "      'n_epochs'         : 20  \n",
            "      'batch_size'       : 28  \n",
            "      'optimizer'        : sgd  \n",
            "      'conv_filters'     : 90  \n",
            "      'conv_kernel_size' : 7  \n",
            "      'conv_activation'  : relu  \n",
            "      'dense_units'      : 156  \n",
            "      'dense_activation' : tanh  \n",
            "   Best iteration: 0  \n",
            " \n",
            "   Random seed: 354179905  \n",
            " \n",
            "   Evaluation time   : 469.38354754447937 sec    [100.0 %]\n",
            "   Optimization time : 0.00037288665771484375 sec    [0.0 %]\n",
            "   Iteration time    : 469.3839204311371 sec    [93.88 sec/iter]\n",
            " \n",
            "Optimization time 2: 469.5\n"
          ]
        }
      ]
    },
    {
      "cell_type": "markdown",
      "source": [
        "####Results from RUN\n",
        "Results: 'model'  \n",
        "   Best score: 0.8054741024971008  \n",
        "   Best parameter set:\n",
        "      'n_epochs'         : 20  \n",
        "      'batch_size'       : 28  \n",
        "      'optimizer'        : sgd  \n",
        "      'conv_filters'     : 90  \n",
        "      'conv_kernel_size' : 7  \n",
        "      'conv_activation'  : relu  \n",
        "      'dense_units'      : 156  \n",
        "      'dense_activation' : tanh  \n",
        "   Best iteration: 0  \n",
        "\n",
        "   Random seed: 354179905  \n",
        "\n",
        "   Evaluation time   : 469.38354754447937 sec    [100.0 %]\n",
        "   Optimization time : 0.00037288665771484375 sec    [0.0 %]\n",
        "   Iteration time    : 469.3839204311371 sec    [93.88 sec/iter]\n",
        "\n",
        "Optimization time 2: 469.5\n"
      ],
      "metadata": {
        "id": "YDzGCNcf30UK"
      }
    },
    {
      "cell_type": "markdown",
      "source": [],
      "metadata": {
        "id": "8uKs6XXC6akv"
      }
    },
    {
      "cell_type": "code",
      "source": [
        "search_data = hyper.search_data(model)\n",
        "print(search_data)"
      ],
      "metadata": {
        "id": "FtzIyvfSz_Yz",
        "colab": {
          "base_uri": "https://localhost:8080/"
        },
        "outputId": "051945bd-9695-41be-f49c-b2fd01ab8e2f"
      },
      "execution_count": 27,
      "outputs": [
        {
          "output_type": "stream",
          "name": "stdout",
          "text": [
            "   n_epochs  batch_size optimizer  conv_filters  conv_kernel_size  \\\n",
            "0        20          28       sgd            90                 7   \n",
            "1        10          97       sgd            12                 7   \n",
            "2        20          28       sgd            90                 7   \n",
            "3        20          28       sgd            90                 7   \n",
            "4        20          40      adam            26                 5   \n",
            "\n",
            "  conv_activation  dense_units dense_activation     score  \n",
            "0            relu          156             tanh  0.805474  \n",
            "1            relu          155             relu  0.521994  \n",
            "2            relu          156             tanh  0.805474  \n",
            "3            relu          156             tanh  0.805474  \n",
            "4            tanh          165             tanh  0.500489  \n"
          ]
        }
      ]
    },
    {
      "cell_type": "code",
      "source": [
        "from keras.callbacks import EarlyStopping"
      ],
      "metadata": {
        "id": "z4rRbVGSU8U5"
      },
      "execution_count": 28,
      "outputs": []
    },
    {
      "cell_type": "code",
      "source": [
        "# Best parameter set:\n",
        "n_epochs = 150\n",
        "batch_size = 28\n",
        "optimizer = keras.optimizers.SGD(learning_rate=0.001)\n",
        "conv_filters = 90\n",
        "conv_kernel_size = 7\n",
        "conv_activation = 'relu'\n",
        "dense_units = 156\n",
        "dense_activation = 'tanh'"
      ],
      "metadata": {
        "id": "LbXJl81lo8oB"
      },
      "execution_count": 39,
      "outputs": []
    },
    {
      "cell_type": "code",
      "source": [
        "model_bestparam = keras.Sequential([\n",
        "    keras.layers.Conv2D(filters=conv_filters, kernel_size=conv_kernel_size, activation=conv_activation, input_shape=(176, 176, 3)),\n",
        "    keras.layers.AveragePooling2D(),\n",
        "    keras.layers.Conv2D(filters=conv_filters, kernel_size=conv_kernel_size, activation=conv_activation),\n",
        "    keras.layers.AveragePooling2D(),\n",
        "    keras.layers.Flatten(),\n",
        "    keras.layers.Dense(units=dense_units, activation=dense_activation),\n",
        "    keras.layers.Dense(units=dense_units, activation=dense_activation),\n",
        "    keras.layers.Dense(units=4, activation=\"softmax\")\n",
        "  ])\n",
        "\n",
        "# Compile the model\n",
        "model_bestparam.compile(optimizer=optimizer, loss=\"categorical_crossentropy\", metrics=[\"accuracy\"])\n",
        "\n",
        "# Define the checkpoint callback\n",
        "checkpoint_filepath = '/tmp/ckpt/checkpoint.model.keras'\n",
        "model_checkpoint_callback = keras.callbacks.ModelCheckpoint(\n",
        "    filepath=checkpoint_filepath,\n",
        "    monitor='val_accuracy',\n",
        "    mode='max',\n",
        "    save_best_only=True\n",
        ")\n",
        "\n",
        "# Define the early stopping callback\n",
        "#early_stopping_callback = EarlyStopping(monitor='accuracy', baseline=1.0, patience=0)\n",
        "\n",
        "# Train the model with the checkpoint callback\n",
        "model_bestparam.fit(train_data, validation_data=val_data, epochs=n_epochs, batch_size=batch_size, verbose=2, callbacks=[model_checkpoint_callback])\n",
        "\n",
        "# The model (that are considered the best) can be loaded as\n",
        "best_model = keras.models.load_model(checkpoint_filepath)\n",
        "\n",
        "# Evaluate the model on the validation data\n",
        "val_loss, val_accuracy = best_model.evaluate(val_data, verbose=2)\n",
        "print(f'Validation accuracy: {val_accuracy*100}%')\n"
      ],
      "metadata": {
        "colab": {
          "base_uri": "https://localhost:8080/"
        },
        "id": "IhggjGYVodhq",
        "outputId": "8fd8e1d6-69cb-4da5-cf56-17cc27c0ed5a"
      },
      "execution_count": 40,
      "outputs": [
        {
          "output_type": "stream",
          "name": "stdout",
          "text": [
            "Epoch 1/150\n",
            "129/129 - 16s - loss: 1.0272 - accuracy: 0.4968 - val_loss: 1.0415 - val_accuracy: 0.4995 - 16s/epoch - 126ms/step\n",
            "Epoch 2/150\n",
            "129/129 - 15s - loss: 0.9704 - accuracy: 0.5332 - val_loss: 1.0638 - val_accuracy: 0.4956 - 15s/epoch - 115ms/step\n",
            "Epoch 3/150\n",
            "129/129 - 15s - loss: 0.9349 - accuracy: 0.5583 - val_loss: 1.0952 - val_accuracy: 0.4741 - 15s/epoch - 115ms/step\n",
            "Epoch 4/150\n",
            "129/129 - 15s - loss: 0.9188 - accuracy: 0.5649 - val_loss: 1.1082 - val_accuracy: 0.4125 - 15s/epoch - 113ms/step\n",
            "Epoch 5/150\n",
            "129/129 - 14s - loss: 0.8988 - accuracy: 0.5759 - val_loss: 1.1097 - val_accuracy: 0.4673 - 14s/epoch - 112ms/step\n",
            "Epoch 6/150\n",
            "129/129 - 16s - loss: 0.8797 - accuracy: 0.6000 - val_loss: 1.1024 - val_accuracy: 0.4497 - 16s/epoch - 126ms/step\n",
            "Epoch 7/150\n",
            "129/129 - 15s - loss: 0.8656 - accuracy: 0.6000 - val_loss: 1.1478 - val_accuracy: 0.4321 - 15s/epoch - 113ms/step\n",
            "Epoch 8/150\n",
            "129/129 - 15s - loss: 0.8495 - accuracy: 0.6130 - val_loss: 1.1453 - val_accuracy: 0.4389 - 15s/epoch - 114ms/step\n",
            "Epoch 9/150\n",
            "129/129 - 15s - loss: 0.8379 - accuracy: 0.6213 - val_loss: 1.1555 - val_accuracy: 0.3705 - 15s/epoch - 113ms/step\n",
            "Epoch 10/150\n",
            "129/129 - 15s - loss: 0.8237 - accuracy: 0.6325 - val_loss: 1.1291 - val_accuracy: 0.4330 - 15s/epoch - 114ms/step\n",
            "Epoch 11/150\n",
            "129/129 - 14s - loss: 0.7998 - accuracy: 0.6388 - val_loss: 1.1175 - val_accuracy: 0.4438 - 14s/epoch - 112ms/step\n",
            "Epoch 12/150\n",
            "129/129 - 15s - loss: 0.7945 - accuracy: 0.6518 - val_loss: 1.1299 - val_accuracy: 0.3998 - 15s/epoch - 113ms/step\n",
            "Epoch 13/150\n",
            "129/129 - 14s - loss: 0.7643 - accuracy: 0.6645 - val_loss: 1.1802 - val_accuracy: 0.4858 - 14s/epoch - 112ms/step\n",
            "Epoch 14/150\n",
            "129/129 - 15s - loss: 0.7544 - accuracy: 0.6706 - val_loss: 1.1246 - val_accuracy: 0.4428 - 15s/epoch - 113ms/step\n",
            "Epoch 15/150\n",
            "129/129 - 15s - loss: 0.7193 - accuracy: 0.6986 - val_loss: 1.3115 - val_accuracy: 0.4633 - 15s/epoch - 114ms/step\n",
            "Epoch 16/150\n",
            "129/129 - 15s - loss: 0.7220 - accuracy: 0.6869 - val_loss: 1.0972 - val_accuracy: 0.4761 - 15s/epoch - 112ms/step\n",
            "Epoch 17/150\n",
            "129/129 - 15s - loss: 0.6908 - accuracy: 0.7106 - val_loss: 1.0571 - val_accuracy: 0.4966 - 15s/epoch - 113ms/step\n",
            "Epoch 18/150\n",
            "129/129 - 15s - loss: 0.6742 - accuracy: 0.7160 - val_loss: 1.1335 - val_accuracy: 0.4594 - 15s/epoch - 113ms/step\n",
            "Epoch 19/150\n",
            "129/129 - 14s - loss: 0.6644 - accuracy: 0.7108 - val_loss: 1.0619 - val_accuracy: 0.4878 - 14s/epoch - 112ms/step\n",
            "Epoch 20/150\n",
            "129/129 - 14s - loss: 0.6488 - accuracy: 0.7225 - val_loss: 1.0945 - val_accuracy: 0.4848 - 14s/epoch - 111ms/step\n",
            "Epoch 21/150\n",
            "129/129 - 20s - loss: 0.6164 - accuracy: 0.7452 - val_loss: 1.1051 - val_accuracy: 0.5308 - 20s/epoch - 152ms/step\n",
            "Epoch 22/150\n",
            "129/129 - 15s - loss: 0.6068 - accuracy: 0.7445 - val_loss: 1.0576 - val_accuracy: 0.5103 - 15s/epoch - 116ms/step\n",
            "Epoch 23/150\n",
            "129/129 - 15s - loss: 0.5823 - accuracy: 0.7611 - val_loss: 1.0237 - val_accuracy: 0.5220 - 15s/epoch - 117ms/step\n",
            "Epoch 24/150\n",
            "129/129 - 15s - loss: 0.5788 - accuracy: 0.7626 - val_loss: 1.0068 - val_accuracy: 0.5279 - 15s/epoch - 113ms/step\n",
            "Epoch 25/150\n",
            "129/129 - 15s - loss: 0.5618 - accuracy: 0.7682 - val_loss: 1.1534 - val_accuracy: 0.4878 - 15s/epoch - 113ms/step\n",
            "Epoch 26/150\n",
            "129/129 - 20s - loss: 0.5363 - accuracy: 0.7794 - val_loss: 1.0811 - val_accuracy: 0.5552 - 20s/epoch - 156ms/step\n",
            "Epoch 27/150\n",
            "129/129 - 15s - loss: 0.5380 - accuracy: 0.7828 - val_loss: 1.0079 - val_accuracy: 0.5406 - 15s/epoch - 113ms/step\n",
            "Epoch 28/150\n",
            "129/129 - 16s - loss: 0.4945 - accuracy: 0.8001 - val_loss: 0.9698 - val_accuracy: 0.5543 - 16s/epoch - 125ms/step\n",
            "Epoch 29/150\n",
            "129/129 - 17s - loss: 0.4855 - accuracy: 0.8016 - val_loss: 0.9463 - val_accuracy: 0.5953 - 17s/epoch - 128ms/step\n",
            "Epoch 30/150\n",
            "129/129 - 15s - loss: 0.4922 - accuracy: 0.8014 - val_loss: 0.9995 - val_accuracy: 0.5591 - 15s/epoch - 114ms/step\n",
            "Epoch 31/150\n",
            "129/129 - 15s - loss: 0.4404 - accuracy: 0.8258 - val_loss: 0.9765 - val_accuracy: 0.5797 - 15s/epoch - 113ms/step\n",
            "Epoch 32/150\n",
            "129/129 - 15s - loss: 0.4332 - accuracy: 0.8292 - val_loss: 0.9672 - val_accuracy: 0.5650 - 15s/epoch - 116ms/step\n",
            "Epoch 33/150\n",
            "129/129 - 16s - loss: 0.4264 - accuracy: 0.8299 - val_loss: 0.9452 - val_accuracy: 0.5846 - 16s/epoch - 124ms/step\n",
            "Epoch 34/150\n",
            "129/129 - 15s - loss: 0.4009 - accuracy: 0.8453 - val_loss: 0.9888 - val_accuracy: 0.5826 - 15s/epoch - 113ms/step\n",
            "Epoch 35/150\n",
            "129/129 - 15s - loss: 0.3973 - accuracy: 0.8429 - val_loss: 0.8926 - val_accuracy: 0.6129 - 15s/epoch - 118ms/step\n",
            "Epoch 36/150\n",
            "129/129 - 15s - loss: 0.3862 - accuracy: 0.8490 - val_loss: 1.0432 - val_accuracy: 0.5758 - 15s/epoch - 113ms/step\n",
            "Epoch 37/150\n",
            "129/129 - 14s - loss: 0.3821 - accuracy: 0.8580 - val_loss: 0.9296 - val_accuracy: 0.6119 - 14s/epoch - 112ms/step\n",
            "Epoch 38/150\n",
            "129/129 - 15s - loss: 0.3429 - accuracy: 0.8743 - val_loss: 1.2207 - val_accuracy: 0.5455 - 15s/epoch - 113ms/step\n",
            "Epoch 39/150\n",
            "129/129 - 15s - loss: 0.3439 - accuracy: 0.8782 - val_loss: 0.9609 - val_accuracy: 0.5767 - 15s/epoch - 113ms/step\n",
            "Epoch 40/150\n",
            "129/129 - 17s - loss: 0.3199 - accuracy: 0.8821 - val_loss: 0.8709 - val_accuracy: 0.6315 - 17s/epoch - 129ms/step\n",
            "Epoch 41/150\n",
            "129/129 - 15s - loss: 0.3228 - accuracy: 0.8748 - val_loss: 0.8718 - val_accuracy: 0.6246 - 15s/epoch - 113ms/step\n",
            "Epoch 42/150\n",
            "129/129 - 15s - loss: 0.2920 - accuracy: 0.8941 - val_loss: 0.8305 - val_accuracy: 0.6334 - 15s/epoch - 120ms/step\n",
            "Epoch 43/150\n",
            "129/129 - 15s - loss: 0.2788 - accuracy: 0.8970 - val_loss: 0.9752 - val_accuracy: 0.6090 - 15s/epoch - 113ms/step\n",
            "Epoch 44/150\n",
            "129/129 - 16s - loss: 0.2795 - accuracy: 0.8960 - val_loss: 0.8195 - val_accuracy: 0.6403 - 16s/epoch - 121ms/step\n",
            "Epoch 45/150\n",
            "129/129 - 15s - loss: 0.2482 - accuracy: 0.9195 - val_loss: 0.7870 - val_accuracy: 0.6549 - 15s/epoch - 119ms/step\n",
            "Epoch 46/150\n",
            "129/129 - 16s - loss: 0.2603 - accuracy: 0.9104 - val_loss: 0.7838 - val_accuracy: 0.6686 - 16s/epoch - 121ms/step\n",
            "Epoch 47/150\n",
            "129/129 - 15s - loss: 0.2525 - accuracy: 0.9117 - val_loss: 0.8226 - val_accuracy: 0.6549 - 15s/epoch - 115ms/step\n",
            "Epoch 48/150\n",
            "129/129 - 15s - loss: 0.2339 - accuracy: 0.9187 - val_loss: 0.8041 - val_accuracy: 0.6559 - 15s/epoch - 113ms/step\n",
            "Epoch 49/150\n",
            "129/129 - 16s - loss: 0.2103 - accuracy: 0.9336 - val_loss: 0.7917 - val_accuracy: 0.6706 - 16s/epoch - 121ms/step\n",
            "Epoch 50/150\n",
            "129/129 - 15s - loss: 0.2010 - accuracy: 0.9309 - val_loss: 0.7965 - val_accuracy: 0.6598 - 15s/epoch - 114ms/step\n",
            "Epoch 51/150\n",
            "129/129 - 17s - loss: 0.1988 - accuracy: 0.9334 - val_loss: 0.7591 - val_accuracy: 0.6823 - 17s/epoch - 131ms/step\n",
            "Epoch 52/150\n",
            "129/129 - 15s - loss: 0.1763 - accuracy: 0.9505 - val_loss: 0.7397 - val_accuracy: 0.6921 - 15s/epoch - 119ms/step\n",
            "Epoch 53/150\n",
            "129/129 - 15s - loss: 0.1601 - accuracy: 0.9531 - val_loss: 0.7854 - val_accuracy: 0.6950 - 15s/epoch - 120ms/step\n",
            "Epoch 54/150\n",
            "129/129 - 16s - loss: 0.1653 - accuracy: 0.9492 - val_loss: 0.7025 - val_accuracy: 0.7058 - 16s/epoch - 121ms/step\n",
            "Epoch 55/150\n",
            "129/129 - 15s - loss: 0.1582 - accuracy: 0.9529 - val_loss: 0.8567 - val_accuracy: 0.6686 - 15s/epoch - 114ms/step\n",
            "Epoch 56/150\n",
            "129/129 - 15s - loss: 0.1441 - accuracy: 0.9605 - val_loss: 0.7545 - val_accuracy: 0.6931 - 15s/epoch - 114ms/step\n",
            "Epoch 57/150\n",
            "129/129 - 15s - loss: 0.1493 - accuracy: 0.9578 - val_loss: 0.7505 - val_accuracy: 0.6999 - 15s/epoch - 114ms/step\n",
            "Epoch 58/150\n",
            "129/129 - 19s - loss: 0.1187 - accuracy: 0.9712 - val_loss: 0.7099 - val_accuracy: 0.7185 - 19s/epoch - 150ms/step\n",
            "Epoch 59/150\n",
            "129/129 - 15s - loss: 0.1379 - accuracy: 0.9624 - val_loss: 0.6677 - val_accuracy: 0.7204 - 15s/epoch - 119ms/step\n",
            "Epoch 60/150\n",
            "129/129 - 15s - loss: 0.1258 - accuracy: 0.9632 - val_loss: 2.2201 - val_accuracy: 0.4653 - 15s/epoch - 114ms/step\n",
            "Epoch 61/150\n",
            "129/129 - 16s - loss: 0.1422 - accuracy: 0.9607 - val_loss: 0.6801 - val_accuracy: 0.7361 - 16s/epoch - 120ms/step\n",
            "Epoch 62/150\n",
            "129/129 - 15s - loss: 0.0928 - accuracy: 0.9810 - val_loss: 0.7217 - val_accuracy: 0.7234 - 15s/epoch - 113ms/step\n",
            "Epoch 63/150\n",
            "129/129 - 15s - loss: 0.0860 - accuracy: 0.9812 - val_loss: 1.1307 - val_accuracy: 0.6422 - 15s/epoch - 112ms/step\n",
            "Epoch 64/150\n",
            "129/129 - 20s - loss: 0.0949 - accuracy: 0.9768 - val_loss: 0.6561 - val_accuracy: 0.7400 - 20s/epoch - 155ms/step\n",
            "Epoch 65/150\n",
            "129/129 - 16s - loss: 0.0953 - accuracy: 0.9793 - val_loss: 0.6470 - val_accuracy: 0.7351 - 16s/epoch - 124ms/step\n",
            "Epoch 66/150\n",
            "129/129 - 15s - loss: 0.0677 - accuracy: 0.9890 - val_loss: 0.7406 - val_accuracy: 0.7195 - 15s/epoch - 115ms/step\n",
            "Epoch 67/150\n",
            "129/129 - 18s - loss: 0.0618 - accuracy: 0.9905 - val_loss: 0.6401 - val_accuracy: 0.7507 - 18s/epoch - 143ms/step\n",
            "Epoch 68/150\n",
            "129/129 - 14s - loss: 0.0694 - accuracy: 0.9858 - val_loss: 0.6501 - val_accuracy: 0.7439 - 14s/epoch - 111ms/step\n",
            "Epoch 69/150\n",
            "129/129 - 14s - loss: 0.0690 - accuracy: 0.9890 - val_loss: 0.6462 - val_accuracy: 0.7439 - 14s/epoch - 112ms/step\n",
            "Epoch 70/150\n",
            "129/129 - 20s - loss: 0.0524 - accuracy: 0.9934 - val_loss: 0.6189 - val_accuracy: 0.7634 - 20s/epoch - 158ms/step\n",
            "Epoch 71/150\n",
            "129/129 - 15s - loss: 0.0515 - accuracy: 0.9937 - val_loss: 0.6431 - val_accuracy: 0.7498 - 15s/epoch - 113ms/step\n",
            "Epoch 72/150\n",
            "129/129 - 15s - loss: 0.0762 - accuracy: 0.9851 - val_loss: 0.6120 - val_accuracy: 0.7488 - 15s/epoch - 113ms/step\n",
            "Epoch 73/150\n",
            "129/129 - 15s - loss: 0.0433 - accuracy: 0.9966 - val_loss: 0.6477 - val_accuracy: 0.7537 - 15s/epoch - 113ms/step\n",
            "Epoch 74/150\n",
            "129/129 - 20s - loss: 0.0381 - accuracy: 0.9988 - val_loss: 0.6221 - val_accuracy: 0.7644 - 20s/epoch - 155ms/step\n",
            "Epoch 75/150\n",
            "129/129 - 14s - loss: 0.0355 - accuracy: 0.9976 - val_loss: 0.6443 - val_accuracy: 0.7546 - 14s/epoch - 112ms/step\n",
            "Epoch 76/150\n",
            "129/129 - 15s - loss: 0.0346 - accuracy: 0.9983 - val_loss: 0.6036 - val_accuracy: 0.7761 - 15s/epoch - 120ms/step\n",
            "Epoch 77/150\n",
            "129/129 - 16s - loss: 0.0325 - accuracy: 0.9988 - val_loss: 0.6129 - val_accuracy: 0.7791 - 16s/epoch - 120ms/step\n",
            "Epoch 78/150\n",
            "129/129 - 15s - loss: 0.0303 - accuracy: 0.9983 - val_loss: 0.5984 - val_accuracy: 0.7634 - 15s/epoch - 113ms/step\n",
            "Epoch 79/150\n",
            "129/129 - 15s - loss: 0.0307 - accuracy: 0.9988 - val_loss: 0.6096 - val_accuracy: 0.7605 - 15s/epoch - 114ms/step\n",
            "Epoch 80/150\n",
            "129/129 - 15s - loss: 0.0837 - accuracy: 0.9844 - val_loss: 0.5916 - val_accuracy: 0.7654 - 15s/epoch - 114ms/step\n",
            "Epoch 81/150\n",
            "129/129 - 16s - loss: 0.0276 - accuracy: 0.9990 - val_loss: 0.5798 - val_accuracy: 0.7732 - 16s/epoch - 123ms/step\n",
            "Epoch 82/150\n",
            "129/129 - 14s - loss: 0.0255 - accuracy: 1.0000 - val_loss: 0.6262 - val_accuracy: 0.7771 - 14s/epoch - 112ms/step\n",
            "Epoch 83/150\n",
            "129/129 - 20s - loss: 0.0231 - accuracy: 0.9998 - val_loss: 0.5828 - val_accuracy: 0.7810 - 20s/epoch - 156ms/step\n",
            "Epoch 84/150\n",
            "129/129 - 16s - loss: 0.0236 - accuracy: 0.9998 - val_loss: 0.5708 - val_accuracy: 0.7820 - 16s/epoch - 121ms/step\n",
            "Epoch 85/150\n",
            "129/129 - 15s - loss: 0.0217 - accuracy: 1.0000 - val_loss: 0.6107 - val_accuracy: 0.7683 - 15s/epoch - 113ms/step\n",
            "Epoch 86/150\n",
            "129/129 - 15s - loss: 0.0237 - accuracy: 0.9980 - val_loss: 0.5919 - val_accuracy: 0.7791 - 15s/epoch - 114ms/step\n",
            "Epoch 87/150\n",
            "129/129 - 20s - loss: 0.0192 - accuracy: 1.0000 - val_loss: 0.5931 - val_accuracy: 0.7928 - 20s/epoch - 154ms/step\n",
            "Epoch 88/150\n",
            "129/129 - 14s - loss: 0.0181 - accuracy: 1.0000 - val_loss: 0.5740 - val_accuracy: 0.7820 - 14s/epoch - 112ms/step\n",
            "Epoch 89/150\n",
            "129/129 - 15s - loss: 0.0175 - accuracy: 1.0000 - val_loss: 0.5845 - val_accuracy: 0.8016 - 15s/epoch - 119ms/step\n",
            "Epoch 90/150\n",
            "129/129 - 15s - loss: 0.0169 - accuracy: 1.0000 - val_loss: 0.5757 - val_accuracy: 0.7859 - 15s/epoch - 113ms/step\n",
            "Epoch 91/150\n",
            "129/129 - 15s - loss: 0.0743 - accuracy: 0.9780 - val_loss: 0.5909 - val_accuracy: 0.7849 - 15s/epoch - 117ms/step\n",
            "Epoch 92/150\n",
            "129/129 - 15s - loss: 0.0179 - accuracy: 1.0000 - val_loss: 0.5481 - val_accuracy: 0.7967 - 15s/epoch - 115ms/step\n",
            "Epoch 93/150\n",
            "129/129 - 15s - loss: 0.0154 - accuracy: 1.0000 - val_loss: 0.5839 - val_accuracy: 0.7967 - 15s/epoch - 113ms/step\n",
            "Epoch 94/150\n",
            "129/129 - 15s - loss: 0.0149 - accuracy: 1.0000 - val_loss: 0.5420 - val_accuracy: 0.7996 - 15s/epoch - 113ms/step\n",
            "Epoch 95/150\n",
            "129/129 - 15s - loss: 0.0140 - accuracy: 1.0000 - val_loss: 0.5622 - val_accuracy: 0.7967 - 15s/epoch - 113ms/step\n",
            "Epoch 96/150\n",
            "129/129 - 16s - loss: 0.0136 - accuracy: 1.0000 - val_loss: 0.5766 - val_accuracy: 0.7928 - 16s/epoch - 123ms/step\n",
            "Epoch 97/150\n",
            "129/129 - 20s - loss: 0.0127 - accuracy: 1.0000 - val_loss: 0.5837 - val_accuracy: 0.8025 - 20s/epoch - 159ms/step\n",
            "Epoch 98/150\n",
            "129/129 - 15s - loss: 0.0125 - accuracy: 1.0000 - val_loss: 0.5786 - val_accuracy: 0.7967 - 15s/epoch - 114ms/step\n",
            "Epoch 99/150\n",
            "129/129 - 15s - loss: 0.0120 - accuracy: 1.0000 - val_loss: 0.6317 - val_accuracy: 0.7908 - 15s/epoch - 114ms/step\n",
            "Epoch 100/150\n",
            "129/129 - 14s - loss: 0.0116 - accuracy: 1.0000 - val_loss: 0.5902 - val_accuracy: 0.7996 - 14s/epoch - 112ms/step\n",
            "Epoch 101/150\n",
            "129/129 - 16s - loss: 0.0112 - accuracy: 1.0000 - val_loss: 0.5920 - val_accuracy: 0.7996 - 16s/epoch - 123ms/step\n",
            "Epoch 102/150\n",
            "129/129 - 14s - loss: 0.0108 - accuracy: 1.0000 - val_loss: 0.5651 - val_accuracy: 0.7928 - 14s/epoch - 112ms/step\n",
            "Epoch 103/150\n",
            "129/129 - 15s - loss: 0.0106 - accuracy: 1.0000 - val_loss: 0.5587 - val_accuracy: 0.7957 - 15s/epoch - 113ms/step\n",
            "Epoch 104/150\n",
            "129/129 - 15s - loss: 0.0102 - accuracy: 1.0000 - val_loss: 0.5777 - val_accuracy: 0.8025 - 15s/epoch - 113ms/step\n",
            "Epoch 105/150\n",
            "129/129 - 15s - loss: 0.0101 - accuracy: 1.0000 - val_loss: 0.5615 - val_accuracy: 0.8016 - 15s/epoch - 113ms/step\n",
            "Epoch 106/150\n",
            "129/129 - 21s - loss: 0.0097 - accuracy: 1.0000 - val_loss: 0.5579 - val_accuracy: 0.8084 - 21s/epoch - 166ms/step\n",
            "Epoch 107/150\n",
            "129/129 - 15s - loss: 0.0095 - accuracy: 1.0000 - val_loss: 0.5658 - val_accuracy: 0.8016 - 15s/epoch - 113ms/step\n",
            "Epoch 108/150\n",
            "129/129 - 15s - loss: 0.0091 - accuracy: 1.0000 - val_loss: 0.5647 - val_accuracy: 0.8055 - 15s/epoch - 115ms/step\n",
            "Epoch 109/150\n",
            "129/129 - 15s - loss: 0.0088 - accuracy: 1.0000 - val_loss: 0.5691 - val_accuracy: 0.8084 - 15s/epoch - 115ms/step\n",
            "Epoch 110/150\n",
            "129/129 - 14s - loss: 0.0087 - accuracy: 1.0000 - val_loss: 0.5647 - val_accuracy: 0.8045 - 14s/epoch - 112ms/step\n",
            "Epoch 111/150\n",
            "129/129 - 14s - loss: 0.0084 - accuracy: 1.0000 - val_loss: 0.5668 - val_accuracy: 0.8035 - 14s/epoch - 112ms/step\n",
            "Epoch 112/150\n",
            "129/129 - 14s - loss: 0.0082 - accuracy: 1.0000 - val_loss: 0.5668 - val_accuracy: 0.7996 - 14s/epoch - 112ms/step\n",
            "Epoch 113/150\n",
            "129/129 - 15s - loss: 0.0081 - accuracy: 1.0000 - val_loss: 0.5735 - val_accuracy: 0.8035 - 15s/epoch - 114ms/step\n",
            "Epoch 114/150\n",
            "129/129 - 15s - loss: 0.0078 - accuracy: 1.0000 - val_loss: 0.5637 - val_accuracy: 0.8055 - 15s/epoch - 116ms/step\n",
            "Epoch 115/150\n",
            "129/129 - 15s - loss: 0.0076 - accuracy: 1.0000 - val_loss: 0.5677 - val_accuracy: 0.8025 - 15s/epoch - 114ms/step\n",
            "Epoch 116/150\n",
            "129/129 - 15s - loss: 0.0075 - accuracy: 1.0000 - val_loss: 0.5719 - val_accuracy: 0.8016 - 15s/epoch - 114ms/step\n",
            "Epoch 117/150\n",
            "129/129 - 15s - loss: 0.0076 - accuracy: 1.0000 - val_loss: 0.5578 - val_accuracy: 0.8025 - 15s/epoch - 114ms/step\n",
            "Epoch 118/150\n",
            "129/129 - 20s - loss: 0.0071 - accuracy: 1.0000 - val_loss: 0.5533 - val_accuracy: 0.8094 - 20s/epoch - 157ms/step\n",
            "Epoch 119/150\n",
            "129/129 - 15s - loss: 0.0070 - accuracy: 1.0000 - val_loss: 0.5580 - val_accuracy: 0.8094 - 15s/epoch - 113ms/step\n",
            "Epoch 120/150\n",
            "129/129 - 17s - loss: 0.0068 - accuracy: 1.0000 - val_loss: 0.5604 - val_accuracy: 0.8113 - 17s/epoch - 130ms/step\n",
            "Epoch 121/150\n",
            "129/129 - 15s - loss: 0.0067 - accuracy: 1.0000 - val_loss: 0.5665 - val_accuracy: 0.8084 - 15s/epoch - 113ms/step\n",
            "Epoch 122/150\n",
            "129/129 - 15s - loss: 0.0065 - accuracy: 1.0000 - val_loss: 0.5669 - val_accuracy: 0.8094 - 15s/epoch - 114ms/step\n",
            "Epoch 123/150\n",
            "129/129 - 20s - loss: 0.0064 - accuracy: 1.0000 - val_loss: 0.5601 - val_accuracy: 0.8123 - 20s/epoch - 156ms/step\n",
            "Epoch 124/150\n",
            "129/129 - 15s - loss: 0.0062 - accuracy: 1.0000 - val_loss: 0.5776 - val_accuracy: 0.8094 - 15s/epoch - 113ms/step\n",
            "Epoch 125/150\n",
            "129/129 - 15s - loss: 0.0061 - accuracy: 1.0000 - val_loss: 0.5630 - val_accuracy: 0.8094 - 15s/epoch - 114ms/step\n",
            "Epoch 126/150\n",
            "129/129 - 15s - loss: 0.0060 - accuracy: 1.0000 - val_loss: 0.5607 - val_accuracy: 0.8123 - 15s/epoch - 114ms/step\n",
            "Epoch 127/150\n",
            "129/129 - 15s - loss: 0.0059 - accuracy: 1.0000 - val_loss: 0.5713 - val_accuracy: 0.8113 - 15s/epoch - 113ms/step\n",
            "Epoch 128/150\n",
            "129/129 - 14s - loss: 0.0058 - accuracy: 1.0000 - val_loss: 0.5687 - val_accuracy: 0.8074 - 14s/epoch - 112ms/step\n",
            "Epoch 129/150\n",
            "129/129 - 15s - loss: 0.0057 - accuracy: 1.0000 - val_loss: 0.5684 - val_accuracy: 0.8104 - 15s/epoch - 113ms/step\n",
            "Epoch 130/150\n",
            "129/129 - 15s - loss: 0.0056 - accuracy: 1.0000 - val_loss: 0.5681 - val_accuracy: 0.8123 - 15s/epoch - 113ms/step\n",
            "Epoch 131/150\n",
            "129/129 - 15s - loss: 0.0055 - accuracy: 1.0000 - val_loss: 0.5726 - val_accuracy: 0.8094 - 15s/epoch - 113ms/step\n",
            "Epoch 132/150\n",
            "129/129 - 14s - loss: 0.0054 - accuracy: 1.0000 - val_loss: 0.5727 - val_accuracy: 0.8094 - 14s/epoch - 112ms/step\n",
            "Epoch 133/150\n",
            "129/129 - 15s - loss: 0.0053 - accuracy: 1.0000 - val_loss: 0.5595 - val_accuracy: 0.8123 - 15s/epoch - 113ms/step\n",
            "Epoch 134/150\n",
            "129/129 - 14s - loss: 0.0052 - accuracy: 1.0000 - val_loss: 0.5738 - val_accuracy: 0.8123 - 14s/epoch - 112ms/step\n",
            "Epoch 135/150\n",
            "129/129 - 20s - loss: 0.0052 - accuracy: 1.0000 - val_loss: 0.5571 - val_accuracy: 0.8143 - 20s/epoch - 156ms/step\n",
            "Epoch 136/150\n",
            "129/129 - 14s - loss: 0.0050 - accuracy: 1.0000 - val_loss: 0.5619 - val_accuracy: 0.8123 - 14s/epoch - 112ms/step\n",
            "Epoch 137/150\n",
            "129/129 - 15s - loss: 0.0049 - accuracy: 1.0000 - val_loss: 0.5646 - val_accuracy: 0.8104 - 15s/epoch - 113ms/step\n",
            "Epoch 138/150\n",
            "129/129 - 15s - loss: 0.0049 - accuracy: 1.0000 - val_loss: 0.5620 - val_accuracy: 0.8113 - 15s/epoch - 113ms/step\n",
            "Epoch 139/150\n",
            "129/129 - 17s - loss: 0.0047 - accuracy: 1.0000 - val_loss: 0.5560 - val_accuracy: 0.8192 - 17s/epoch - 135ms/step\n",
            "Epoch 140/150\n",
            "129/129 - 14s - loss: 0.0047 - accuracy: 1.0000 - val_loss: 0.5639 - val_accuracy: 0.8143 - 14s/epoch - 112ms/step\n",
            "Epoch 141/150\n",
            "129/129 - 15s - loss: 0.0046 - accuracy: 1.0000 - val_loss: 0.5645 - val_accuracy: 0.8113 - 15s/epoch - 116ms/step\n",
            "Epoch 142/150\n",
            "129/129 - 16s - loss: 0.0045 - accuracy: 1.0000 - val_loss: 0.5601 - val_accuracy: 0.8143 - 16s/epoch - 126ms/step\n",
            "Epoch 143/150\n",
            "129/129 - 15s - loss: 0.0045 - accuracy: 1.0000 - val_loss: 0.5679 - val_accuracy: 0.8152 - 15s/epoch - 112ms/step\n",
            "Epoch 144/150\n",
            "129/129 - 15s - loss: 0.0044 - accuracy: 1.0000 - val_loss: 0.5742 - val_accuracy: 0.8104 - 15s/epoch - 113ms/step\n",
            "Epoch 145/150\n",
            "129/129 - 15s - loss: 0.0043 - accuracy: 1.0000 - val_loss: 0.5622 - val_accuracy: 0.8123 - 15s/epoch - 114ms/step\n",
            "Epoch 146/150\n",
            "129/129 - 16s - loss: 0.0043 - accuracy: 1.0000 - val_loss: 0.5706 - val_accuracy: 0.8143 - 16s/epoch - 125ms/step\n",
            "Epoch 147/150\n",
            "129/129 - 15s - loss: 0.0042 - accuracy: 1.0000 - val_loss: 0.5572 - val_accuracy: 0.8182 - 15s/epoch - 113ms/step\n",
            "Epoch 148/150\n",
            "129/129 - 15s - loss: 0.0042 - accuracy: 1.0000 - val_loss: 0.5603 - val_accuracy: 0.8162 - 15s/epoch - 113ms/step\n",
            "Epoch 149/150\n",
            "129/129 - 14s - loss: 0.0041 - accuracy: 1.0000 - val_loss: 0.5672 - val_accuracy: 0.8162 - 14s/epoch - 112ms/step\n",
            "Epoch 150/150\n",
            "129/129 - 14s - loss: 0.0040 - accuracy: 1.0000 - val_loss: 0.5642 - val_accuracy: 0.8143 - 14s/epoch - 112ms/step\n",
            "32/32 - 1s - loss: 0.5560 - accuracy: 0.8192 - 1s/epoch - 44ms/step\n",
            "Validation accuracy: 81.91593289375305%\n"
          ]
        }
      ]
    },
    {
      "cell_type": "code",
      "source": [
        "# Assume 'model' is your trained model\n",
        "model_bestparam.save('PSO2_Model.Keras')\n",
        "model_bestparam.save('PSO2_Model.h5')"
      ],
      "metadata": {
        "id": "mcwAJjXPXGoD"
      },
      "execution_count": 42,
      "outputs": []
    },
    {
      "cell_type": "code",
      "source": [
        "# Load the best model\n",
        "from keras.models import load_model\n",
        "best_model = load_model(checkpoint_filepath)\n",
        "best_model.save('PS02_BestModel.Keras')\n",
        "best_model.save('PS02_BestModel.h5')"
      ],
      "metadata": {
        "id": "1LMohlXqleO8"
      },
      "execution_count": 48,
      "outputs": []
    },
    {
      "cell_type": "markdown",
      "source": [
        "# Metrics"
      ],
      "metadata": {
        "id": "f27L9LxhtCq7"
      }
    },
    {
      "cell_type": "code",
      "source": [
        "from sklearn.metrics import roc_curve, auc, confusion_matrix, accuracy_score, recall_score, f1_score, classification_report\n",
        "from sklearn.preprocessing import label_binarize\n",
        "import seaborn as sns\n",
        "import numpy as np\n",
        "import matplotlib.pyplot as plt"
      ],
      "metadata": {
        "id": "-jX8fGO397Hj"
      },
      "execution_count": 50,
      "outputs": []
    },
    {
      "cell_type": "code",
      "source": [
        "# Define path to the data directory\n",
        "train_dir = \"/content/Omdena/Alzheimer_s Dataset/train\"\n",
        "\n",
        "# Define image generator for training with augmentation\n",
        "train_datagen = ImageDataGenerator(\n",
        "    rescale=1./255,  # Rescaling\n",
        "    validation_split=0.2  # Setting the validation split to 20%\n",
        ")\n",
        "\n",
        "# Define image generator for validation with only rescaling\n",
        "val_datagen = ImageDataGenerator(\n",
        "    rescale=1./255,  # Rescaling\n",
        "    validation_split=0.2  # Setting the validation split to 20%\n",
        ")\n",
        "\n",
        "# Create a training data flow\n",
        "train_data = train_datagen.flow_from_directory(\n",
        "    train_dir,\n",
        "    target_size=(176, 176),  # Set the target size to 150x150\n",
        "    batch_size=32,\n",
        "    class_mode=\"categorical\",\n",
        "    subset='training',  # Specify that this is the training data\n",
        "    shuffle=False\n",
        ")\n",
        "\n",
        "# Create a validation data flow\n",
        "val_data = val_datagen.flow_from_directory(\n",
        "    train_dir,\n",
        "    target_size=(176, 176),  # Set the target size to 150x150\n",
        "    batch_size=32,\n",
        "    class_mode=\"categorical\",\n",
        "    subset='validation',  # Specify that this is the validation data\n",
        "    shuffle=False\n",
        ")\n"
      ],
      "metadata": {
        "colab": {
          "base_uri": "https://localhost:8080/"
        },
        "id": "QQnTOjdoz2NZ",
        "outputId": "dd209849-f571-4964-e169-24167446c2ef"
      },
      "execution_count": 94,
      "outputs": [
        {
          "output_type": "stream",
          "name": "stdout",
          "text": [
            "Found 4098 images belonging to 4 classes.\n",
            "Found 1023 images belonging to 4 classes.\n"
          ]
        }
      ]
    },
    {
      "cell_type": "code",
      "source": [
        "# Get the predicted probabilities\n",
        "pred_test_probs = best_model.predict(val_data)\n",
        "\n",
        "# Convert the predicted probabilities to class labels\n",
        "pred_test = np.argmax(pred_test_probs, axis=1)\n",
        "\n",
        "# Get the true labels\n",
        "true_val = val_data.classes\n",
        "\n",
        "# Compute the confusion matrix\n",
        "cm = confusion_matrix(true_val, pred_test)\n",
        "\n",
        "# Plot the confusion matrix\n",
        "sns.heatmap(cm, annot=True, fmt='d')\n",
        "\n",
        "# Compute the classification report\n",
        "val_report = classification_report(true_val, pred_test)\n",
        "\n",
        "# Print the classification report\n",
        "print(val_report)\n"
      ],
      "metadata": {
        "colab": {
          "base_uri": "https://localhost:8080/",
          "height": 638
        },
        "id": "6Hwt5mjc0ET6",
        "outputId": "99be02b6-14fa-4b7b-9ca9-ae4d731314ad"
      },
      "execution_count": 91,
      "outputs": [
        {
          "output_type": "stream",
          "name": "stdout",
          "text": [
            "32/32 [==============================] - 1s 37ms/step\n",
            "              precision    recall  f1-score   support\n",
            "\n",
            "           0       0.79      0.71      0.75       143\n",
            "           1       1.00      0.50      0.67        10\n",
            "           2       0.88      0.85      0.86       512\n",
            "           3       0.75      0.83      0.79       358\n",
            "\n",
            "    accuracy                           0.82      1023\n",
            "   macro avg       0.86      0.72      0.77      1023\n",
            "weighted avg       0.82      0.82      0.82      1023\n",
            "\n"
          ]
        },
        {
          "output_type": "display_data",
          "data": {
            "text/plain": [
              "<Figure size 640x480 with 2 Axes>"
            ],
            "image/png": "[encoded data removed]"
          },
          "metadata": {}
        }
      ]
    },
    {
      "cell_type": "code",
      "source": [
        "# Get the predicted probabilities\n",
        "pred_test_probs = best_model.predict(train_data)\n",
        "\n",
        "# Convert the predicted probabilities to class labels\n",
        "pred_test = np.argmax(pred_test_probs, axis=1)\n",
        "\n",
        "# Get the true labels\n",
        "true_val = train_data.classes\n",
        "\n",
        "# Compute the confusion matrix\n",
        "cm = confusion_matrix(true_val, pred_test)\n",
        "\n",
        "# Plot the confusion matrix\n",
        "sns.heatmap(cm, annot=True, fmt='d')\n",
        "\n",
        "# Compute the classification report\n",
        "val_report = classification_report(true_val, pred_test)\n",
        "\n",
        "# Print the classification report\n",
        "print(val_report)"
      ],
      "metadata": {
        "colab": {
          "base_uri": "https://localhost:8080/",
          "height": 638
        },
        "id": "wDIIELpR0f8Z",
        "outputId": "9081c141-15b4-4d86-94dd-3ebd39685510"
      },
      "execution_count": 96,
      "outputs": [
        {
          "output_type": "stream",
          "name": "stdout",
          "text": [
            "129/129 [==============================] - 7s 55ms/step\n",
            "              precision    recall  f1-score   support\n",
            "\n",
            "           0       1.00      1.00      1.00       574\n",
            "           1       1.00      1.00      1.00        42\n",
            "           2       1.00      1.00      1.00      2048\n",
            "           3       1.00      1.00      1.00      1434\n",
            "\n",
            "    accuracy                           1.00      4098\n",
            "   macro avg       1.00      1.00      1.00      4098\n",
            "weighted avg       1.00      1.00      1.00      4098\n",
            "\n"
          ]
        },
        {
          "output_type": "display_data",
          "data": {
            "text/plain": [
              "<Figure size 640x480 with 2 Axes>"
            ],
            "image/png": "[encoded data removed]"
          },
          "metadata": {}
        }
      ]
    },
    {
      "cell_type": "markdown",
      "source": [
        "### Test Dataset"
      ],
      "metadata": {
        "id": "6emvPhT6-P8P"
      }
    },
    {
      "cell_type": "code",
      "source": [
        "from tensorflow.keras.preprocessing.image import ImageDataGenerator\n",
        "\n",
        "# Define path to the test directory\n",
        "test_dir = \"/content/Omdena/Alzheimer_s Dataset/test\"\n",
        "\n",
        "# Define image generator for test data with only rescaling\n",
        "test_datagen = ImageDataGenerator(rescale=1./255)\n",
        "\n",
        "# Create a test data flow\n",
        "test_data = test_datagen.flow_from_directory(\n",
        "    test_dir,\n",
        "    target_size=(176, 176),  # Set the target size to 176x176\n",
        "    batch_size=32,\n",
        "    class_mode=\"categorical\",\n",
        "    shuffle=False  # Ensure the order of the data\n",
        ")"
      ],
      "metadata": {
        "colab": {
          "base_uri": "https://localhost:8080/"
        },
        "id": "JuP7X9O5r_cN",
        "outputId": "3864b629-b3cd-424d-93af-8db4c98e93ad"
      },
      "execution_count": 97,
      "outputs": [
        {
          "output_type": "stream",
          "name": "stdout",
          "text": [
            "Found 1279 images belonging to 4 classes.\n"
          ]
        }
      ]
    },
    {
      "cell_type": "code",
      "source": [
        "# Get the predicted probabilities\n",
        "pred_test_probs = best_model.predict(test_data)\n",
        "\n",
        "# Convert the predicted probabilities to class labels\n",
        "pred_test = np.argmax(pred_test_probs, axis=1)\n",
        "\n",
        "# Get the true labels\n",
        "true_val = test_data.classes\n",
        "\n",
        "# Compute the confusion matrix\n",
        "cm = confusion_matrix(true_val, pred_test)\n",
        "\n",
        "# Plot the confusion matrix\n",
        "sns.heatmap(cm, annot=True, fmt='d')\n",
        "\n",
        "# Compute the classification report\n",
        "val_report = classification_report(true_val, pred_test)\n",
        "\n",
        "# Print the classification report\n",
        "print(val_report)\n"
      ],
      "metadata": {
        "colab": {
          "base_uri": "https://localhost:8080/",
          "height": 638
        },
        "id": "f311ee1wwUtK",
        "outputId": "a61df63e-b11a-4237-ad4c-b2da17526182"
      },
      "execution_count": 98,
      "outputs": [
        {
          "output_type": "stream",
          "name": "stdout",
          "text": [
            "40/40 [==============================] - 1s 35ms/step\n",
            "              precision    recall  f1-score   support\n",
            "\n",
            "           0       0.50      0.28      0.36       179\n",
            "           1       1.00      0.17      0.29        12\n",
            "           2       0.68      0.73      0.70       640\n",
            "           3       0.54      0.58      0.56       448\n",
            "\n",
            "    accuracy                           0.61      1279\n",
            "   macro avg       0.68      0.44      0.48      1279\n",
            "weighted avg       0.61      0.61      0.60      1279\n",
            "\n"
          ]
        },
        {
          "output_type": "display_data",
          "data": {
            "text/plain": [
              "<Figure size 640x480 with 2 Axes>"
            ],
            "image/png": "[encoded data removed]"
          },
          "metadata": {}
        }
      ]
    }
  ]
}